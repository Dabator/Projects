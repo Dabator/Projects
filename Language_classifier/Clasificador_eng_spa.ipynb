{
 "cells": [
  {
   "cell_type": "code",
   "execution_count": 126,
   "metadata": {},
   "outputs": [],
   "source": [
    "from markdown import markdown\n",
    "\n",
    "with open('README_AC.md', 'r') as file:\n",
    "    contenido_md = file.read()"
   ]
  },
  {
   "cell_type": "code",
   "execution_count": 127,
   "metadata": {},
   "outputs": [
    {
     "data": {
      "text/plain": [
       "'# Bienvenido a la comunidad de Inner Source - Welcome to the Inner Source community\\n\\n![IS TEC](imgs/TEC_logo.png)\\n\\nSi has llegado hasta aquÃ\\xad, dejame que te de la bienvenida a nuestra comunidad de Inner Source para MAPFRE. Nos complace mucho tu interÃ©s en nuestra comunidad y te animamos a que, tÃº y tu equipo, seais una parte importante de la comunidad aportando vuestra colaboraciÃ³n.\\n\\n1. Resumen del proyecto - Project Overview\\n\\n    Â¿QuÃ© queremos hacer en la comunidad de Inner Source?\\n    Nuestra principal meta, es apoyaros y compaÃ±aros en todo lo necesario para que vuestros proyectos dispongan de las herramientas y de la metodologÃ\\xada de MAPFRE, de una manera Ã¡gil y rÃ¡pida. **Queremos ser un equipo \"facilitador\" dentro de la compaÃ±Ã\\xada.** Queremos hacer disponible una serie de herramientas que permitan gestionar los diferentes repositorios de la compaÃ±ia de manera que quien quiera o lo necesite pueda colaborar en el desarrollo de las diversas soluciones que esten disponibles.\\n\\n    What do we want to do in the Inner Source community?\\n    Our main goal is to support and accompany you in everything you need for your projects to have the tools and methodology of MAPFRE, in an agile and fast way. **We want to be a \"facilitator\" team within the company.** We want to make available a series of tools that allow to manage the different repositories of the company so that whoever wants or needs it can collaborate in the development of the different solutions that are available.\\n\\n    Â¿El por quÃ© de la comunidad de Inner Source?\\n    Queremos ser facilitadores para que vuestros proyectos dispongan de todo lo necesario (espacios de trabajo, guÃ\\xadas, estandares, herramientas, etc.) y que todo esto se pueda gestionar a travÃ©s del portal de autoservicio de [POSEIDON](https://marketplace.mar.mapfre.com/docs/default/component/CloudSite/poseidon/).\\n\\n    Why the Inner Source community?\\n    We want to be facilitators so that your projects have everything they need (workspaces, guides, standards, tools, etc.) and that all of this can be managed through the self-service portal of [POSEIDON](https://marketplace.mar.mapfre.com/docs/default/component/CloudSite/poseidon/).\\n\\n2. Componentes de la comunidad - Community members\\n\\n    Los miembros actuales de la comunidad son, The current members of the community are:\\n\\n    Pedro Amador RodrÃ\\xadguez Alvarez, Product Owner y Trusted Committer\\n\\n    Raul de la Cruz Solano, Contributor y Trusted Committer\\n\\n    Victor del Barrio TerceÃ±o, Contributor y Trusted Committer\\n\\n    Carlos Rafael MonzÃ³n Garcia, Contributor y Trusted Committer\\n\\n    Luis Gonzaga LÃ³pez-Prieto, Contributor y Trusted Committer\\n\\n    Alejandro Santacana, Contributor y Trusted Committer\\n\\n    Si deseas conocer mÃ¡s aspectos de las tareas que se asocian a cada role, te recomendamos que leas [Role definition guide](10_role_definition_guide.md)\\n\\n    If you want to know more about the tasks associated with each role, we recommend you read [Role definition guide](10_role_definition_guide.md)\\n\\n3. Como contactar con la comunidad - How to contact the community\\n\\n    Para ponerte en contacto con nosotros lo puedes realizar a travÃ©s de la cuenta de correo [\"zzl InnerSource TEC\"](mailto:is-tec@mapfre.com).\\n\\n    You can contact us through the e-mail account [\"zzl InnerSource TEC\"](mailto:is-tec@mapfre.com).\\n\\n4. Â¿Como puedo contribuir a la comunidad de TEC? - How can I contribute to the TEC community?\\n\\n    Puedes echarle un vistazo a nuestro documento de [CONTRIBUTING](CONTRIBUTING.md) que puedes localizar en la raiz de este repositorio. En el te explicamos detalladamente como puedes colaborar con la comunidad e incluso como puedes formar parte de ella.\\n\\n    You can take a look at our [CONTRIBUTING](CONTRIBUTING.md) document that you can find in the root of this repository. In it we explain in detail how you can collaborate with the community and even how you can be part of it.\\n\\n5. Â¿QuÃ© proyectos estÃ¡n actualmente en la comunidad? - What projects are currently in the community?\\n\\n    PodrÃ¡s encontrar el detalle de los productos en nuestro documento de [ABSTRACT](ABSTRACT.md), dondÃ© de un solo vistazo podrÃ¡s ver todos los proyectos que forman parte de la comunidad de Inner Source.\\n\\n    You can find the details of the products in our [ABSTRACT](ABSTRACT.md) document, where at a glance you can see all the projects that are part of the Inner Source community.\\n\\n6. Â¿CÃ³mo puedo aportar CALIDAD al proyecto? - How can I contribute QUALITY to the project?\\n\\n    Puedes encontrar toda la informaciÃ³n existente en Mapfre en este apartado, [MUMONE](https://marketplace.mar.mapfre.com/docs/default/component/MumOneSite/MUMONE_MD/MUMONE_ES/4232001_home/)\\n\\n    You can find all the information existing in Mapfre in this section, [MUMONE](https://marketplace.mar.mapfre.com/docs/default/component/MumOneSite/MUMONE_MD/MUMONE_ES/4232001_home/)\\n\\n    En isTec, queremos poner el foco en ATDD y poner en valor la frase : \"Todo comienza en la Historia de usuario\", [BDD](https://marketplace.mar.mapfre.com/docs/default/component/cloudsite/learning-path/gitops/01-inception/BDD/)\\n\\n    At isTec, we want to focus on ATDD and value the phrase: \"Everything begins in the User Story\", [BDD](https://marketplace.mar.mapfre.com/docs/default/component/cloudsite/learning-path/gitops/01-inception/BDD/)\\n\\n7. DocumentaciÃ³n disponible - Publications available\\n\\n    En estos momentos momentos dispones de la siguiente documentaciÃ³n:\\n\\n- Comunidad de AutomatizaciÃ³n\\n- [CÃ³digo de Conducta](1_codigo_de_conducta.md)\\n- [Principales Pilares de la Comunidad](2_pilares_de_la_comunidad.md)\\n- [Buenas PrÃ¡cticas](3_buenas_practicas.md)\\n- [Buenas PrÃ¡cticas para generar automatismo en TEC](4_buenas_practicas_para_generar_automatismos_en_tec.md)\\n- [CÃ³mo documentamos los automatismo en TEC](5_como_documentamos_los_automatismo_en_tec.md)\\n- [ConveniÃ³n de nombre y estandares de cÃ³digo](6_convencion_de_nombres_y_estandar_de_codigo.md)\\n- [GuÃ\\xada de definiciÃ³n de roles en la comunidad](10_guia_de_definicion_de_roles.md)\\n- [GuÃ\\xada de buenas practicas en los mensajes de commit](11_buenas_practicas_en_los_commits.md)\\n- [Como solicitar un proyecto en Inner Source](12_1_como_solicitar_un_proyecto_en_innersource.md)\\n- [Como trabajar en la modalidad de fork](12_2_como_trabjar_en_modalidad_fork.md)\\n- [Acuerdos de Trabajo](13_acuerdos_de_trabajo.md)\\n- [Como publicar formularios simples en POSEIDON](formularios_simples.md)\\n- [Como publicar formularios complejos en POSEIDON](formularios_complejos.md)\\n- [ImplementaciÃ³n de RagnarÃ¶k en un equipo](personalizacion_de_ragnarok_para_cualquier_equipo.md)\\n- Python\\n- [Acuerdos de trabajo para Python](13_1_acuerdos_de_trabajo_para_python.md)\\n- [Buenas practicas para Python](13_1_1_buenas_practicas_para_python.md)\\n- [GuÃ\\xada de actualizaciÃ³n para Python](13_1_2_guia_de_actualizacion_para_python.md)\\n- [Herramientas recomendadas para Python](13_1_3_herramientas_mas_recomendadas_para_python.md)\\n- Terraform\\n- [Acuerdos de trabajo para Terraform](13_2_acuerdos_de_trabajo_para_terraform.md)\\n- [Buenas practicas para Terraform](13_2_1_buenas_practicas_para_terraform.md)\\n- [GuÃ\\xada de actualizaciÃ³n para Terraform](13_2_2_guia_de_actualizacion_para_terraform.md)\\n- [Herramientas recomendadas para Terraform](13_2_3_herramientas_mas_recomendadas_para_terraform.md)\\n- Ansible\\n- [Acuerdos de trabajo para Ansible](13_3_acuerdos_de_trabajo_para_ansible.md)\\n- [Buenas practicas para Ansible](13_3_1_buenas_practicas_para_ansible.md)\\n- [GuÃ\\xada de actualizaciÃ³n para Ansible](13_3_2_guia_de_actualizacion_para_ansible.md)\\n- [Herramientas recomendadas para Ansible](13_3_3_herramientas_mas_recomendadas_para_ansible.md)\\n- Jenkins(Groovy)\\n- [Acuerdos de trabajo para Jenkins](13_4_acuerdos_de_trabajo_para_jenkins_groovy.md)\\n- [Buenas practicas para Jenkins](13_4_1_buenas_practicas_para_jenkins_groovy.md)\\n- [GuÃ\\xada de actualizaciÃ³n para Jenkins](13_4_2_guia_de_actualizacion_para_jenkins_groovy.md)\\n- [Herramientas recomendadas para Jenkins](13_4_3_herramientas_mas_recomendadas_para_jenkins_groovy.md)\\n- [Configurando test local para Jenkins](13_4_4_configurando_test_local_para_jenkins_groovy.md)\\n- Ejemplos\\n- [Ejemplo de CONTRIBUTING.md](7_example_of_CONTRIBUTING.md)\\n- [Ejemplo de README.md](8_example_of_README.md)\\n- [Ejemplo de ABSTRACT.md](9_example_of_ABSTRACT.md)\\n\\n    Te animamos encarecidamente a que compruebes de manera habitual, las diferentes actualizaciÃ³n y/o incorporaciones de documentaciÃ³n a la comunidad.\\n\\n    At this moment you have the following documentation:\\n\\n- Automation Community\\n- [Code Of Conduct](1_code_of_conduct.md)\\n- [Community Pillars](2_community_pillars.md)\\n- [Best Practices](3_best_practices.md)\\n- [Best Practices to generate automatisms in TEC](4_best_practices_to_generate_automatisms_in_tec.md)\\n- [How we document automations in TEC](5_how_we_document_automations_in_tec.md)\\n- [Naming convention and code standards](6_naming_convention_and_code_standards.md)\\n- [Role definition Guide in Community](10_role_definition_guide.md)\\n- [Guide to good practice in commit messages](11_good_practices_in_the_commits.md)\\n- [How to apply for a Inner Source project](12_1_how_to_apply_for_an_innersource_project.md)\\n- [How to work in fork modality](12_2_how_to_work_in_fork_modality.md)\\n- [Work Agreements](13_work_agreements.md)\\n- [How to publish simple forms in POSEIDON](formularios_simples.md)\\n- [How to publish complex forms in POSEIDON](formularios_complejos.md)\\n- [Implementation of RagnarÃ¶k in a team](personalizacion_de_ragnarok_para_cualquier_equipo.md)\\n- Python\\n- [Work agreement for Python](13_1_work_agreements_for_python.md)\\n- [Best practice for Python](13_1_1_best_practices_for_python.md)\\n- [Upgrade guide for Python](13_1_2_upgrade_guide_for_python.md)\\n- [Most recomended tools for Python](13_1_3_most_recommended_tools_for_python.md)\\n- Terraform\\n- [Work agreement for Terraform](13_2_work_agreements_for_terraform.md)\\n- [Best practice for Terraform](13_2_1_best_practices_for_terraform.md)\\n- [Upgrade guide for Terraform](13_2_2_upgrade_guide_for_terraform.md)\\n- [Most recomended tools for Terraform](13_2_3_most_recommended_tools_for_terraform.md)\\n- Ansible\\n- [Work agreement for Ansible](13_3_work_agreements_for_ansible.md)\\n- [Best practice for Ansible](13_3_1_best_practices_for_ansible.md)\\n- [Upgrade guide for Ansible](13_3_2_upgrade_guide_for_ansible.md)\\n- [Most recomended tools for Ansible](13_3_3_most_recommended_tools_for_ansible.md)\\n- Jenkins(Groovy)\\n- [Work agreement for Jenkins](13_4_work_agreements_for_jenkins_groovy.md)\\n- [Best practice for Jenkins](13_4_1_best_practices_for_jenkins_groovy.md)\\n- [Upgrade guide for Jenkins](13_4_2_upgrade_guide_for_jenkins_groovy.md)\\n- [Most recomended tools for Jenkins](13_4_3_most_recommended_tools_for_jenkins_groovy.md)\\n- [Configuring local test for Jenkins](13_4_4_configuring_local_testing_for_jenkins_groovy.md)\\n- Examples\\n- [Example Of CONTRIBUTING.md](7_example_of_CONTRIBUTING.md)\\n- [Example Of README.md](8_example_of_README.md)\\n- [Example Of ABSTRACT.md](9_example_of_ABSTRACT.md)\\n\\n    We strongly encourage you to check regularly for updates and/or additions of documentation to the community.\\n'"
      ]
     },
     "execution_count": 127,
     "metadata": {},
     "output_type": "execute_result"
    }
   ],
   "source": [
    "contenido_md"
   ]
  },
  {
   "cell_type": "code",
   "execution_count": 65,
   "metadata": {},
   "outputs": [],
   "source": [
    "import nltk\n",
    "from nltk import ne_chunk, pos_tag\n",
    "\n",
    "def extract_person_entities(tokens):\n",
    "    tagged_tokens = pos_tag(tokens)\n",
    "    tree = ne_chunk(tagged_tokens)\n",
    "    \n",
    "    person_entities = []\n",
    "    for subtree in tree:\n",
    "        if isinstance(subtree, nltk.Tree) and subtree.label() == 'PERSON':\n",
    "            entity = \" \".join([token for token, pos in subtree.leaves()])\n",
    "            person_entities.append(entity)\n",
    "\n",
    "    non_person_tokens = [token for token, pos in tagged_tokens if token not in person_entities]\n",
    "\n",
    "    return non_person_tokens\n"
   ]
  },
  {
   "cell_type": "code",
   "execution_count": 130,
   "metadata": {},
   "outputs": [
    {
     "name": "stdout",
     "output_type": "stream",
     "text": [
      "English Words: ['toda', 'groovy', 'trust', 'currently', 'way', 'allow', 'convention', 'definition', 'project', 'automation', 'different', 'poseidon', 'current', 'code', 'conduct', 'example', 'good', 'tarea', 'implementation', 'accompany', 'apply', 'main', 'support', 'methodology', 'moment', 'check', 'document', 'collaborate', 'team', 'story', 'work', 'fork', 'series', 'part', 'pillar', 'inner', 'overview', 'documentation', 'development', 'agreement', 'whoever', 'victor', 'want', 'contact', 'glance', 'read', 'phrase', 'available', 'owner', 'look', 'simple', 'member', 'see', 'contribute', 'information', 'encourage', 'task', 'section', 'generate', 'exist', 'we', 'product', 'take', 'repository', 'message', 'commit', 'modality', 'root', 'role', 'recommend', 'configure', 'abstract', 'focus', 'fast', 'user', 'facilitator', 'publication', 'update', 'welcome', 'within', 'automatism', 'practice', 'begin', 'complex', 'tool', 'regularly', 'everything', 'need', 'manage', 'solution', 'account', 'value', 'community', 'associate', 'detail', 'company', 'agile', 'publish', 'lea', 'https', 'name', 'goal', 'make', 'guide', 'strongly', 'follow', 'know', 'explain', 'tec', 'standard', 'innersource', 'form', 'find', 'workspace', 'source', 'addition', 'even']\n",
      "Spanish Words: ['autoservicio', 'hacer', 'facilitador', 'manera', 'generar', 'momento', 'producto', 'automatizaciã³n', 'alejandro', 'automatismo', 'implementaciã³n', 'bienvenido', 'formar', 'comunidad', 'modalidad', 'meta', 'conducta', 'documentaciã³n', 'encarecidamente', 'recomended', 'ver', 'detalladamente', 'documento', 'necesario', 'contactar', 'repositorio', 'poder', 'si', 'zzl', 'apartado', 'tãº', 'diferente', 'apoyaro', 'barrio', 'importante', 'dejame', 'committer', 'llegar', 'solicitar', 'raul', 'incorporación', 'desarrollo', 'luis', 'complejo', 'carlos', 'test', 'complacer', 'permitir', 'ejemplo', 'proyecto', 'istec', 'estandar', 'colaboraciã³n', 'recomendar', 'usuario', 'solano', 'echar él', 'cruz', 'comprueb', 'acuerdo', 'formulario', 'asociar', 'mensaje', 'localizar', 'colaborar', 'correo', 'cada', 'animir', 'explicar', 'aportar', 'herramienta', 'actualmente', 'diverso', 'historia', 'vistazo', 'mumone', 'rafael', 'contar', 'amador', 'conveniã³n', 'frase', 'necesitar', 'conocer', 'ser', 'actualizaciã³n', 'solo', 'dispón', 'dentro', 'garcia', 'desea', 'disponible', 'publicar', 'poner', 'cã³mo', 'bdd', 'principal', 'existente', 'foco', 'ponerte', 'solución', 'seai', 'serie', 'pedro', 'mailto', 'equipo', 'raiz', 'alvarez', 'buena', 'configurar', 'comenzar', 'realizar', 'santacán', 'documentir', 'definiciã³n', 'practica', 'siguiente', 'monzã³n', 'incluso', 'contribuir', 'detalle', 'estir', 'actual', 'espacio', 'resumen', 'querer', 'encontrar', 'habitual', 'miembro', 'dispongar', 'etc', 'cã³digo', 'parte', 'portal', 'recomendado', 'gestionar', 'trabajar', 'aspecto', 'componente', 'contacto', 'valor', 'gonzacer', 'nombre', 'informaciã³n']\n",
      "English: 45.00%\n",
      "Spanish: 55.00%\n"
     ]
    }
   ],
   "source": [
    "import re\n",
    "import nltk\n",
    "import spacy\n",
    "from nltk.corpus import stopwords, wordnet\n",
    "from sklearn.feature_extraction.text import CountVectorizer\n",
    "from langdetect import detect_langs\n",
    "\n",
    "# Descargar recursos necesarios\n",
    "#nltk.download('punkt')\n",
    "#nltk.download('stopwords')\n",
    "#nltk.download('wordnet')\n",
    "\n",
    "# Cargar modelos de spaCy para inglés y español\n",
    "nlp_en = spacy.load(\"en_core_web_sm\")\n",
    "nlp_es = spacy.load(\"es_core_news_sm\")\n",
    "\n",
    "# Preprocesamiento básico\n",
    "def preprocesing(text):\n",
    "    # Eliminar palabras que estén completamente en mayúsculas\n",
    "    text = ' '.join(word for word in text.split() if not word.isupper())\n",
    "    # Eliminar dígitos\n",
    "    text = re.sub(r'\\d+', '', text)\n",
    "    # Tokenizar el texto\n",
    "    text = nltk.word_tokenize(text)\n",
    "    # EXTRACCION ENTITIES \n",
    "    text = extract_person_entities(text)\n",
    "\n",
    "    return text\n",
    "\n",
    "tokens = preprocesing(contenido_md)\n",
    "\n",
    "# Lista de idiomas y sus códigos para stopwords\n",
    "stopwords_lang = {\n",
    "    \"spanish\": set(stopwords.words(\"spanish\")),\n",
    "    \"english\": set(stopwords.words(\"english\")),\n",
    "    \"comun\": {\"actual\", \"central\", \"normal\", \"base\", \"final\", \"local\", \"son\", \"simple\",\n",
    "              \"popular\", \"radio\", \"total\", \"color\", \"describe\", \"sin\", \"sea\", \"use\", \"oral\",\n",
    "              \"error\", \"familiar\", \"global\", \"informal\", \"original\", \"social\", \"super\", \"universal\",\n",
    "              \"capital\", \"continental\", \"comun\", \"festival\", \"final\", \"ideal\", \"legal\", \"natural\",\n",
    "              \"personal\", \"real\", \"tradicional\", \"virtual\", \"digital\", \"material\", \"mental\",\n",
    "              \"social\", \"visual\", \"editor\", \"horizontal\", \"vertical\"}\n",
    "}\n",
    "\n",
    "# Eliminar stopwords para cada idioma\n",
    "tokens = [token.lower() for token in tokens if token.isalnum()]\n",
    "tokens = [token for token in tokens if token not in stopwords_lang[\"spanish\"] and \n",
    "          token not in stopwords_lang[\"english\"] and token not in stopwords_lang[\"comun\"]]\n",
    "\n",
    "# Funciones de idioma usando WordNet\n",
    "def is_english_word(word):\n",
    "    synsets = wordnet.synsets(word)\n",
    "    return len(synsets) > 0\n",
    "\n",
    "def is_spanish_word(word):\n",
    "    synsets = wordnet.synsets(word, lang='spa')\n",
    "    return bool(synsets)\n",
    "\n",
    "\n",
    "# Calcular probabilidades de pertenencia a cada idioma y clasificar palabras\n",
    "def classify_words(tokens):\n",
    "    english_words = set()\n",
    "    spanish_words = set()\n",
    "\n",
    "    for token in tokens:\n",
    "        english = is_english_word(token)\n",
    "        spanish = is_spanish_word(token)\n",
    "\n",
    "        if english and not spanish:\n",
    "            english_words.add(token)\n",
    "        elif spanish and not english:\n",
    "            spanish_words.add(token)\n",
    "        else:\n",
    "            # Si la palabra es ambigua, utiliza langdetect\n",
    "            try:\n",
    "                detected_langs = detect_langs(token)\n",
    "                detected_lang = max(detected_langs, key=lambda x: x.prob).lang\n",
    "                if detected_lang == 'en':\n",
    "                    english_words.add(token)\n",
    "                else: spanish_words.add(token)\n",
    "            \n",
    "            except:\n",
    "                continue\n",
    "\n",
    "    return english_words, spanish_words\n",
    "\n",
    "# Clasificar palabras\n",
    "english_words, spanish_words = classify_words(tokens)\n",
    "\n",
    "# Lematizar palabras clasificadas por idioma\n",
    "english_lemmatized = list(set([nlp_en(word)[0].lemma_ for word in english_words]))\n",
    "spanish_lemmatized = list(set([nlp_es(word)[0].lemma_ for word in spanish_words]))\n",
    "\n",
    "# Mostrar los resultados\n",
    "print(\"English Words:\", english_lemmatized)\n",
    "print(\"Spanish Words:\", spanish_lemmatized)\n",
    "\n",
    "# Calcular y mostrar los porcentajes\n",
    "total_words = len(english_lemmatized) + len(spanish_lemmatized)\n",
    "english_percentage = (len(english_lemmatized) / total_words) * 100 if total_words > 0 else 0\n",
    "spanish_percentage = (len(spanish_lemmatized) / total_words) * 100 if total_words > 0 else 0\n",
    "\n",
    "print(f\"English: {english_percentage:.2f}%\")\n",
    "print(f\"Spanish: {spanish_percentage:.2f}%\")\n"
   ]
  },
  {
   "cell_type": "code",
   "execution_count": 125,
   "metadata": {},
   "outputs": [
    {
     "name": "stdout",
     "output_type": "stream",
     "text": [
      "98\n",
      "94\n",
      "4\n"
     ]
    }
   ],
   "source": [
    "print(total_words)\n",
    "print(len(english_lemmatized))\n",
    "print(len(spanish_lemmatized))"
   ]
  }
 ],
 "metadata": {
  "kernelspec": {
   "display_name": "Python 3",
   "language": "python",
   "name": "python3"
  },
  "language_info": {
   "codemirror_mode": {
    "name": "ipython",
    "version": 3
   },
   "file_extension": ".py",
   "mimetype": "text/x-python",
   "name": "python",
   "nbconvert_exporter": "python",
   "pygments_lexer": "ipython3",
   "version": "3.12.3"
  }
 },
 "nbformat": 4,
 "nbformat_minor": 2
}
