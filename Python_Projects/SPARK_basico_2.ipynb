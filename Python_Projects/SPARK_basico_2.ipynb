{
 "cells": [
  {
   "cell_type": "markdown",
   "metadata": {
    "application/vnd.databricks.v1+cell": {
     "cellMetadata": {
      "byteLimit": 2048000,
      "rowLimit": 10000
     },
     "inputWidgets": {},
     "nuid": "baaf0531-8440-4504-9c34-db796da40a08",
     "showTitle": false,
     "title": ""
    }
   },
   "source": []
  },
  {
   "cell_type": "markdown",
   "metadata": {
    "application/vnd.databricks.v1+cell": {
     "cellMetadata": {
      "byteLimit": 2048000,
      "rowLimit": 10000
     },
     "inputWidgets": {},
     "nuid": "9657f2ad-1571-48e2-9999-ce87ca4565b6",
     "showTitle": false,
     "title": ""
    }
   },
   "source": [
    "Ejercicio 2. Spark SQL (5 puntos)   \n",
    "Carga el fichero cars.csv proporcionado en Colab o Databricks . En el fichero\n",
    "cars.csv tenemos información sobre las características técnicas de varios\n",
    "vehículos:  \n",
    "\n",
    "• Carga el fichero en un DataFrame de Spark que se llame cars, muestra por\n",
    "pantalla la estructura de cars y las primeras 5 filas (0,5 puntos)  \n",
    "• Obtener las columnas “Car” y “Cylinders” de todos los que sean de Europa (1\n",
    "punto) (0,5 puntos)   \n",
    "• Obtener el número de vehículos por “Origin” (0,5 puntos)  \n",
    "• Obtener el número de vehículos por “Origin” y “Model” y ordenar el resultado\n",
    "por el número de vehículos de manera descendente (1 punto)   \n",
    "• Obtén la media de \"Horsepower\", \"Weight\" y \"Acceleration\" por \"Origen\" (1\n",
    "punto)   \n",
    "• Calcula la ratio entre potencia y peso y a continuación sacar la media por\n",
    "cantidad de cilindros (1,5 puntos) "
   ]
  },
  {
   "cell_type": "code",
   "execution_count": 0,
   "metadata": {
    "application/vnd.databricks.v1+cell": {
     "cellMetadata": {
      "byteLimit": 2048000,
      "rowLimit": 10000
     },
     "inputWidgets": {},
     "nuid": "f9735b48-876c-4d15-a258-5e92ae4ba0b6",
     "showTitle": false,
     "title": ""
    }
   },
   "outputs": [
    {
     "output_type": "stream",
     "name": "stdout",
     "output_type": "stream",
     "text": [
      "Out[1]: True"
     ]
    }
   ],
   "source": [
    "dbutils.fs.cp(\"/FileStore/tables/cars.csv\", \"/FileStore/SparkSQL\")"
   ]
  },
  {
   "cell_type": "code",
   "execution_count": 0,
   "metadata": {
    "application/vnd.databricks.v1+cell": {
     "cellMetadata": {
      "byteLimit": 2048000,
      "rowLimit": 10000
     },
     "inputWidgets": {},
     "nuid": "a8f6b56e-f01f-46f4-aad6-f651c55d39c0",
     "showTitle": false,
     "title": ""
    }
   },
   "outputs": [],
   "source": [
    "cars = spark.read.csv(\"/FileStore/SparkSQL/cars.csv\", header=True, inferSchema=True, sep = \";\")"
   ]
  },
  {
   "cell_type": "code",
   "execution_count": 0,
   "metadata": {
    "application/vnd.databricks.v1+cell": {
     "cellMetadata": {
      "byteLimit": 2048000,
      "rowLimit": 10000
     },
     "inputWidgets": {},
     "nuid": "4f62ca2c-942a-4df5-973a-e264546d8f5d",
     "showTitle": false,
     "title": ""
    }
   },
   "outputs": [
    {
     "output_type": "stream",
     "name": "stdout",
     "output_type": "stream",
     "text": [
      "root\n |-- Car: string (nullable = true)\n |-- MPG: double (nullable = true)\n |-- Cylinders: integer (nullable = true)\n |-- Displacement: double (nullable = true)\n |-- Horsepower: double (nullable = true)\n |-- Weight: decimal(4,0) (nullable = true)\n |-- Acceleration: double (nullable = true)\n |-- Model: integer (nullable = true)\n |-- Origin: string (nullable = true)\n\n"
     ]
    }
   ],
   "source": [
    "cars.printSchema()"
   ]
  },
  {
   "cell_type": "code",
   "execution_count": 0,
   "metadata": {
    "application/vnd.databricks.v1+cell": {
     "cellMetadata": {
      "byteLimit": 2048000,
      "rowLimit": 10000
     },
     "inputWidgets": {},
     "nuid": "aa0b0e5d-c0b6-462b-9717-48f06305b9a5",
     "showTitle": false,
     "title": ""
    }
   },
   "outputs": [
    {
     "output_type": "stream",
     "name": "stdout",
     "output_type": "stream",
     "text": [
      "+--------------------+----+---------+------------+----------+------+------------+-----+------+\n|                 Car| MPG|Cylinders|Displacement|Horsepower|Weight|Acceleration|Model|Origin|\n+--------------------+----+---------+------------+----------+------+------------+-----+------+\n|Chevrolet Chevell...|18.0|        8|       307.0|     130.0|  3504|        12.0|   70|    US|\n|   Buick Skylark 320|15.0|        8|       350.0|     165.0|  3693|        11.5|   70|    US|\n|  Plymouth Satellite|18.0|        8|       318.0|     150.0|  3436|        11.0|   70|    US|\n|       AMC Rebel SST|16.0|        8|       304.0|     150.0|  3433|        12.0|   70|    US|\n|         Ford Torino|17.0|        8|       302.0|     140.0|  3449|        10.5|   70|    US|\n|    Ford Galaxie 500|15.0|        8|       429.0|     198.0|  4341|        10.0|   70|    US|\n|    Chevrolet Impala|14.0|        8|       454.0|     220.0|  4354|         9.0|   70|    US|\n|   Plymouth Fury iii|14.0|        8|       440.0|     215.0|  4312|         8.5|   70|    US|\n|    Pontiac Catalina|14.0|        8|       455.0|     225.0|  4425|        10.0|   70|    US|\n|  AMC Ambassador DPL|15.0|        8|       390.0|     190.0|  3850|         8.5|   70|    US|\n|Citroen DS-21 Pallas| 0.0|        4|       133.0|     115.0|  3090|        17.5|   70|Europe|\n|Chevrolet Chevell...| 0.0|        8|       350.0|     165.0|  4142|        11.5|   70|    US|\n|    Ford Torino (sw)| 0.0|        8|       351.0|     153.0|  4034|        11.0|   70|    US|\n|Plymouth Satellit...| 0.0|        8|       383.0|     175.0|  4166|        10.5|   70|    US|\n|  AMC Rebel SST (sw)| 0.0|        8|       360.0|     175.0|  3850|        11.0|   70|    US|\n| Dodge Challenger SE|15.0|        8|       383.0|     170.0|  3563|        10.0|   70|    US|\n|  Plymouth 'Cuda 340|14.0|        8|       340.0|     160.0|  3609|         8.0|   70|    US|\n|Ford Mustang Boss...| 0.0|        8|       302.0|     140.0|  3353|         8.0|   70|    US|\n|Chevrolet Monte C...|15.0|        8|       400.0|     150.0|  3761|         9.5|   70|    US|\n|Buick Estate Wago...|14.0|        8|       455.0|     225.0|  3086|        10.0|   70|    US|\n+--------------------+----+---------+------------+----------+------+------------+-----+------+\nonly showing top 20 rows\n\n"
     ]
    }
   ],
   "source": [
    "cars.show()"
   ]
  },
  {
   "cell_type": "code",
   "execution_count": 0,
   "metadata": {
    "application/vnd.databricks.v1+cell": {
     "cellMetadata": {
      "byteLimit": 2048000,
      "rowLimit": 10000
     },
     "inputWidgets": {},
     "nuid": "14a3fe5b-e9e0-4a85-8111-eb4fa0bdfe61",
     "showTitle": false,
     "title": ""
    }
   },
   "outputs": [
    {
     "output_type": "stream",
     "name": "stdout",
     "output_type": "stream",
     "text": [
      "Out[27]: [Row(Car='Chevrolet Chevelle Malibu', MPG=18.0, Cylinders=8, Displacement=307.0, Horsepower=130.0, Weight=Decimal('3504'), Acceleration=12.0, Model=70, Origin='US'),\n Row(Car='Buick Skylark 320', MPG=15.0, Cylinders=8, Displacement=350.0, Horsepower=165.0, Weight=Decimal('3693'), Acceleration=11.5, Model=70, Origin='US'),\n Row(Car='Plymouth Satellite', MPG=18.0, Cylinders=8, Displacement=318.0, Horsepower=150.0, Weight=Decimal('3436'), Acceleration=11.0, Model=70, Origin='US'),\n Row(Car='AMC Rebel SST', MPG=16.0, Cylinders=8, Displacement=304.0, Horsepower=150.0, Weight=Decimal('3433'), Acceleration=12.0, Model=70, Origin='US'),\n Row(Car='Ford Torino', MPG=17.0, Cylinders=8, Displacement=302.0, Horsepower=140.0, Weight=Decimal('3449'), Acceleration=10.5, Model=70, Origin='US')]"
     ]
    }
   ],
   "source": [
    "cars.head(5)"
   ]
  },
  {
   "cell_type": "code",
   "execution_count": 0,
   "metadata": {
    "application/vnd.databricks.v1+cell": {
     "cellMetadata": {
      "byteLimit": 2048000,
      "rowLimit": 10000
     },
     "inputWidgets": {},
     "nuid": "a1ca34f4-e8fe-44c2-be37-7c192233809f",
     "showTitle": false,
     "title": ""
    }
   },
   "outputs": [
    {
     "output_type": "stream",
     "name": "stdout",
     "output_type": "stream",
     "text": [
      "+--------------------+---------+\n|                 Car|Cylinders|\n+--------------------+---------+\n|Citroen DS-21 Pallas|        4|\n|Volkswagen 1131 D...|        4|\n|         Peugeot 504|        4|\n|         Audi 100 LS|        4|\n|            Saab 99e|        4|\n|            BMW 2002|        4|\n|Volkswagen Super ...|        4|\n|           Opel 1900|        4|\n|         Peugeot 304|        4|\n|           Fiat 124B|        4|\n|Volkswagen Model 111|        4|\n|   Volkswagen Type 3|        4|\n|     Volvo 145e (sw)|        4|\n| Volkswagen 411 (sw)|        4|\n|    Peugeot 504 (sw)|        4|\n|     Renault 12 (sw)|        4|\n|Volkswagen Super ...|        4|\n|Fiat 124 Sport Coupe|        4|\n|            Fiat 128|        4|\n|          Opel Manta|        4|\n+--------------------+---------+\nonly showing top 20 rows\n\n"
     ]
    }
   ],
   "source": [
    "cars.select('Car', 'Cylinders').filter(cars.Origin == 'Europe').show()"
   ]
  },
  {
   "cell_type": "code",
   "execution_count": 0,
   "metadata": {
    "application/vnd.databricks.v1+cell": {
     "cellMetadata": {
      "byteLimit": 2048000,
      "rowLimit": 10000
     },
     "inputWidgets": {},
     "nuid": "fe26ed16-c6f5-4d88-8a27-7f45b5da4303",
     "showTitle": false,
     "title": ""
    }
   },
   "outputs": [
    {
     "output_type": "stream",
     "name": "stdout",
     "output_type": "stream",
     "text": [
      "+--------------------+---------+\n|                 Car|Cylinders|\n+--------------------+---------+\n|Citroen DS-21 Pallas|        4|\n|Volkswagen 1131 D...|        4|\n|         Peugeot 504|        4|\n|         Audi 100 LS|        4|\n|            Saab 99e|        4|\n|            BMW 2002|        4|\n|Volkswagen Super ...|        4|\n|           Opel 1900|        4|\n|         Peugeot 304|        4|\n|           Fiat 124B|        4|\n|Volkswagen Model 111|        4|\n|   Volkswagen Type 3|        4|\n|     Volvo 145e (sw)|        4|\n| Volkswagen 411 (sw)|        4|\n|    Peugeot 504 (sw)|        4|\n|     Renault 12 (sw)|        4|\n|Volkswagen Super ...|        4|\n|Fiat 124 Sport Coupe|        4|\n|            Fiat 128|        4|\n|          Opel Manta|        4|\n+--------------------+---------+\nonly showing top 20 rows\n\n"
     ]
    }
   ],
   "source": [
    "cars.createOrReplaceTempView(\"my_table\");\n",
    "\n",
    "rset = spark.sql(\"SELECT Car, Cylinders FROM my_table WHERE Origin = 'Europe'\")\n",
    "rset.show()"
   ]
  },
  {
   "cell_type": "code",
   "execution_count": 0,
   "metadata": {
    "application/vnd.databricks.v1+cell": {
     "cellMetadata": {
      "byteLimit": 2048000,
      "rowLimit": 10000
     },
     "inputWidgets": {},
     "nuid": "874de4b7-5893-47b6-b598-31c6c1352912",
     "showTitle": false,
     "title": ""
    }
   },
   "outputs": [],
   "source": [
    "selected_columns = cars.select(\"Origin\", \"Model\")"
   ]
  },
  {
   "cell_type": "code",
   "execution_count": 0,
   "metadata": {
    "application/vnd.databricks.v1+cell": {
     "cellMetadata": {
      "byteLimit": 2048000,
      "rowLimit": 10000
     },
     "inputWidgets": {},
     "nuid": "91288114-d514-4099-9273-3d5a39639a76",
     "showTitle": false,
     "title": ""
    }
   },
   "outputs": [
    {
     "output_type": "stream",
     "name": "stdout",
     "output_type": "stream",
     "text": [
      "Out[75]: 406"
     ]
    }
   ],
   "source": [
    "cars.count()"
   ]
  },
  {
   "cell_type": "code",
   "execution_count": 0,
   "metadata": {
    "application/vnd.databricks.v1+cell": {
     "cellMetadata": {
      "byteLimit": 2048000,
      "rowLimit": 10000
     },
     "inputWidgets": {},
     "nuid": "9fdd6af1-e420-4a65-8e51-cf88cdb44969",
     "showTitle": false,
     "title": ""
    }
   },
   "outputs": [
    {
     "output_type": "stream",
     "name": "stdout",
     "output_type": "stream",
     "text": [
      "+------+-----+\n|Origin|count|\n+------+-----+\n|Europe|   73|\n|    US|  254|\n| Japan|   79|\n+------+-----+\n\n"
     ]
    }
   ],
   "source": [
    "#Obtener el número de vehículos por “Origin” \n",
    "cars.groupBy('Origin').count().show()"
   ]
  },
  {
   "cell_type": "code",
   "execution_count": 0,
   "metadata": {
    "application/vnd.databricks.v1+cell": {
     "cellMetadata": {
      "byteLimit": 2048000,
      "rowLimit": 10000
     },
     "inputWidgets": {},
     "nuid": "589e6f5c-b216-449a-9605-28bc2fd559b7",
     "showTitle": false,
     "title": ""
    }
   },
   "outputs": [
    {
     "output_type": "stream",
     "name": "stdout",
     "output_type": "stream",
     "text": [
      "+------+-----+\n|Origin|count|\n+------+-----+\n|Europe|   73|\n|    US|  254|\n| Japan|   79|\n+------+-----+\n\n"
     ]
    }
   ],
   "source": [
    "cars.createOrReplaceTempView(\"my_table\");\n",
    "\n",
    "rset = spark.sql(\"SELECT Origin, COUNT(*) as count FROM my_table GROUP BY Origin\")\n",
    "rset.show()"
   ]
  },
  {
   "cell_type": "code",
   "execution_count": 0,
   "metadata": {
    "application/vnd.databricks.v1+cell": {
     "cellMetadata": {
      "byteLimit": 2048000,
      "rowLimit": 10000
     },
     "inputWidgets": {},
     "nuid": "11db2829-321b-42fc-8586-6faf953298bd",
     "showTitle": false,
     "title": ""
    }
   },
   "outputs": [
    {
     "output_type": "stream",
     "name": "stdout",
     "output_type": "stream",
     "text": [
      "+------+-----+-----+\n|Origin|Model|count|\n+------+-----+-----+\n|    US|   73|   29|\n|    US|   70|   27|\n|    US|   79|   23|\n|    US|   78|   22|\n|    US|   76|   22|\n|    US|   75|   20|\n|    US|   82|   20|\n|    US|   71|   20|\n|    US|   72|   18|\n|    US|   77|   18|\n|    US|   74|   15|\n| Japan|   80|   13|\n|    US|   81|   13|\n| Japan|   81|   12|\n|Europe|   80|    9|\n| Japan|   82|    9|\n|Europe|   76|    8|\n| Japan|   78|    8|\n|    US|   80|    7|\n|Europe|   73|    7|\n+------+-----+-----+\nonly showing top 20 rows\n\nNone\n"
     ]
    }
   ],
   "source": [
    "#Obtener el número de vehículos por “Origin” y “Model” y ordenar el resultado por el número de vehículos de manera descendente \n",
    "\n",
    "print(cars.select(\"Origin\", \"Model\").groupBy(\"Origin\", \"Model\").count().orderBy(\"count\", ascending=False).show())"
   ]
  },
  {
   "cell_type": "code",
   "execution_count": 0,
   "metadata": {
    "application/vnd.databricks.v1+cell": {
     "cellMetadata": {
      "byteLimit": 2048000,
      "rowLimit": 10000
     },
     "inputWidgets": {},
     "nuid": "bbe4ef31-0e78-4fbd-8441-89fa75cfd5a9",
     "showTitle": false,
     "title": ""
    }
   },
   "outputs": [
    {
     "output_type": "stream",
     "name": "stdout",
     "output_type": "stream",
     "text": [
      "+------+-----+-----+\n|Origin|Model|count|\n+------+-----+-----+\n|    US|   73|   29|\n|    US|   70|   27|\n|    US|   79|   23|\n|    US|   78|   22|\n|    US|   76|   22|\n|    US|   75|   20|\n|    US|   82|   20|\n|    US|   71|   20|\n|    US|   72|   18|\n|    US|   77|   18|\n|    US|   74|   15|\n| Japan|   80|   13|\n|    US|   81|   13|\n| Japan|   81|   12|\n|Europe|   80|    9|\n| Japan|   82|    9|\n|Europe|   76|    8|\n| Japan|   78|    8|\n|    US|   80|    7|\n|Europe|   73|    7|\n+------+-----+-----+\nonly showing top 20 rows\n\n"
     ]
    }
   ],
   "source": [
    "rset = spark.sql(\"SELECT Origin, Model, COUNT(*) as count FROM my_table GROUP BY Origin, Model ORDER BY count DESC\")\n",
    "rset.show()\n"
   ]
  },
  {
   "cell_type": "code",
   "execution_count": 0,
   "metadata": {
    "application/vnd.databricks.v1+cell": {
     "cellMetadata": {
      "byteLimit": 2048000,
      "rowLimit": 10000
     },
     "inputWidgets": {},
     "nuid": "3e797f6e-20cd-41bf-afc6-fde968dad560",
     "showTitle": false,
     "title": ""
    }
   },
   "outputs": [
    {
     "output_type": "stream",
     "name": "stdout",
     "output_type": "stream",
     "text": [
      "+------+------------------+-----------+------------------+\n|Origin|   avg(Horsepower)|avg(Weight)| avg(Acceleration)|\n+------+------------------+-----------+------------------+\n|Europe| 78.78082191780823|  2431.4932| 16.82191780821918|\n|    US|118.01181102362204|  3372.7008|14.942519685039361|\n| Japan| 79.83544303797468|  2221.2278|16.172151898734175|\n+------+------------------+-----------+------------------+\n\n"
     ]
    }
   ],
   "source": [
    "#Obtén la media de \"Horsepower\", \"Weight\" y \"Acceleration\" por \"Origen\" (1 punto)\n",
    "\n",
    "cars.select(\"Horsepower\", \"Weight\", \"Acceleration\", \"Origin\").groupBy(\"Origin\").mean().show()\n"
   ]
  },
  {
   "cell_type": "code",
   "execution_count": 0,
   "metadata": {
    "application/vnd.databricks.v1+cell": {
     "cellMetadata": {
      "byteLimit": 2048000,
      "rowLimit": 10000
     },
     "inputWidgets": {},
     "nuid": "b206a0cf-f49a-4611-94fc-3bd06c7f59f2",
     "showTitle": false,
     "title": ""
    }
   },
   "outputs": [
    {
     "output_type": "stream",
     "name": "stdout",
     "output_type": "stream",
     "text": [
      "+------+------------------+----------+------------------+\n|Origin|    Avg_Horsepower|Avg_Weight|  Avg_Acceleration|\n+------+------------------+----------+------------------+\n|Europe| 78.78082191780823| 2431.4932| 16.82191780821918|\n|    US|118.01181102362204| 3372.7008|14.942519685039361|\n| Japan| 79.83544303797468| 2221.2278|16.172151898734175|\n+------+------------------+----------+------------------+\n\n"
     ]
    }
   ],
   "source": [
    "rset = spark.sql(\"SELECT Origin, AVG(Horsepower) as Avg_Horsepower, AVG(Weight) as Avg_Weight, AVG(Acceleration) as Avg_Acceleration FROM my_table GROUP BY Origin\")\n",
    "rset.show()"
   ]
  },
  {
   "cell_type": "code",
   "execution_count": 0,
   "metadata": {
    "application/vnd.databricks.v1+cell": {
     "cellMetadata": {
      "byteLimit": 2048000,
      "rowLimit": 10000
     },
     "inputWidgets": {},
     "nuid": "580fc7e2-51eb-4435-ba0e-0ba0738f951e",
     "showTitle": false,
     "title": ""
    }
   },
   "outputs": [],
   "source": [
    "# Calcula la ratio entre potencia y peso y a continuación sacar la media por cantidad de cilindros (1,5 puntos)\n",
    "cars = cars.withColumn(\"ratio\", cars[\"Horsepower\"] / cars[\"Weight\"])"
   ]
  },
  {
   "cell_type": "code",
   "execution_count": 0,
   "metadata": {
    "application/vnd.databricks.v1+cell": {
     "cellMetadata": {
      "byteLimit": 2048000,
      "rowLimit": 10000
     },
     "inputWidgets": {},
     "nuid": "48b48558-2b47-4c64-a5e8-f6b090451639",
     "showTitle": true,
     "title": ""
    }
   },
   "outputs": [
    {
     "output_type": "stream",
     "name": "stdout",
     "output_type": "stream",
     "text": [
      "+---------+--------------------+\n|Cylinders|          avg(ratio)|\n+---------+--------------------+\n|        6| 0.03163238614784404|\n|        3|0.041441818290915214|\n|        5|0.026973551761855744|\n|        4|0.033217183371144564|\n|        8| 0.03872856292574305|\n+---------+--------------------+\n\n"
     ]
    }
   ],
   "source": [
    "cars.select(\"ratio\", \"Cylinders\").groupBy(\"Cylinders\").mean(\"ratio\").show()"
   ]
  },
  {
   "cell_type": "code",
   "execution_count": 0,
   "metadata": {
    "application/vnd.databricks.v1+cell": {
     "cellMetadata": {
      "byteLimit": 2048000,
      "rowLimit": 10000
     },
     "inputWidgets": {},
     "nuid": "35aa1acc-4816-48c9-ab4a-cf2613303d80",
     "showTitle": false,
     "title": ""
    }
   },
   "outputs": [
    {
     "output_type": "stream",
     "name": "stdout",
     "output_type": "stream",
     "text": [
      "+--------------------+---------+\n|           avg_ratio|Cylinders|\n+--------------------+---------+\n| 0.03163238614784404|        6|\n|0.041441818290915214|        3|\n|0.026973551761855744|        5|\n|0.033217183371144564|        4|\n| 0.03872856292574305|        8|\n+--------------------+---------+\n\n"
     ]
    }
   ],
   "source": [
    "cars.createOrReplaceTempView(\"my_table\");\n",
    "\n",
    "rset = spark.sql(\"SELECT AVG(Horsepower / Weight) AS avg_ratio, Cylinders FROM my_table GROUP BY Cylinders\")\n",
    "rset.show()"
   ]
  },
  {
   "cell_type": "code",
   "execution_count": 0,
   "metadata": {
    "application/vnd.databricks.v1+cell": {
     "cellMetadata": {},
     "inputWidgets": {},
     "nuid": "324d4151-1636-4610-a188-c1e907b54f7e",
     "showTitle": false,
     "title": ""
    }
   },
   "outputs": [],
   "source": []
  },
  {
   "cell_type": "code",
   "execution_count": 0,
   "metadata": {
    "application/vnd.databricks.v1+cell": {
     "cellMetadata": {},
     "inputWidgets": {},
     "nuid": "f5e45757-e599-414d-a6c9-6c8e939263f4",
     "showTitle": false,
     "title": ""
    }
   },
   "outputs": [],
   "source": []
  }
 ],
 "metadata": {
  "application/vnd.databricks.v1+notebook": {
   "dashboards": [],
   "environmentMetadata": null,
   "language": "python",
   "notebookMetadata": {
    "pythonIndentUnit": 4
   },
   "notebookName": "Daniel_Barandiaran_PEC_Ejercicio2",
   "widgets": {}
  }
 },
 "nbformat": 4,
 "nbformat_minor": 0
}
