{
 "cells": [
  {
   "cell_type": "markdown",
   "metadata": {
    "application/vnd.databricks.v1+cell": {
     "cellMetadata": {},
     "inputWidgets": {},
     "nuid": "baaf0531-8440-4504-9c34-db796da40a08",
     "showTitle": false,
     "title": ""
    }
   },
   "source": []
  },
  {
   "cell_type": "markdown",
   "metadata": {
    "application/vnd.databricks.v1+cell": {
     "cellMetadata": {},
     "inputWidgets": {},
     "nuid": "9657f2ad-1571-48e2-9999-ce87ca4565b6",
     "showTitle": false,
     "title": ""
    }
   },
   "source": [
    "Ejercicio 1. Spark RDDs (5 puntos).  \n",
    "• Generar un RDD que contenga los valores [74,22, 6,0,22, 10, 5, 10, 12] (0,5\n",
    "puntos).  \n",
    "• Mostrar los valores máximos y mínimos del RDD. (0,5 puntos).  \n",
    "• Calcular la suma de todos los valores. (0,5 puntos).  \n",
    "• Generar un nuevo RDD fruto de sumar diez unidades a cada elemento. (0,5\n",
    "puntos).  \n",
    "• Generar un nuevo RDD que contenga los valores únicos del RDD original. (0,5\n",
    "puntos).  \n",
    "• Generar un “cuenta palabras” que calcule el número de veces que aparece\n",
    "cada una en el fichero loremipsum.txt (1 punto).  \n",
    "• Usando el RDD anterior, debemos generar uno nuevo RDD que contenga las\n",
    "palabras en mayúsculas de solo aquellas palabras con longitud mayor o igual\n",
    "a 7. (1,5 puntos) "
   ]
  },
  {
   "cell_type": "code",
   "execution_count": 0,
   "metadata": {
    "application/vnd.databricks.v1+cell": {
     "cellMetadata": {
      "byteLimit": 2048000,
      "rowLimit": 10000
     },
     "inputWidgets": {},
     "nuid": "a177e794-b43a-4009-bf4c-c0c8022d95ca",
     "showTitle": false,
     "title": ""
    }
   },
   "outputs": [
    {
     "output_type": "stream",
     "name": "stdout",
     "output_type": "stream",
     "text": [
      "[74, 22, 6, 0, 22, 10, 5, 10, 12]\n"
     ]
    }
   ],
   "source": [
    "rdd1 = sc.parallelize([74,22,6,0,22,10,5,10,12])\n",
    "print(rdd1.collect())"
   ]
  },
  {
   "cell_type": "code",
   "execution_count": 0,
   "metadata": {
    "application/vnd.databricks.v1+cell": {
     "cellMetadata": {
      "byteLimit": 2048000,
      "rowLimit": 10000
     },
     "inputWidgets": {},
     "nuid": "551286f5-a33c-4a07-aff2-8223c0b30597",
     "showTitle": false,
     "title": ""
    }
   },
   "outputs": [
    {
     "output_type": "stream",
     "name": "stdout",
     "output_type": "stream",
     "text": [
      "valor mínimo: 0\nvalor máximo: 74\n"
     ]
    }
   ],
   "source": [
    "print(\"valor mínimo:\", rdd1.min())\n",
    "print(\"valor máximo:\", rdd1.max())"
   ]
  },
  {
   "cell_type": "code",
   "execution_count": 0,
   "metadata": {
    "application/vnd.databricks.v1+cell": {
     "cellMetadata": {
      "byteLimit": 2048000,
      "rowLimit": 10000
     },
     "inputWidgets": {},
     "nuid": "c657026e-1764-46ce-b0be-f6f6fa0b4f39",
     "showTitle": false,
     "title": ""
    }
   },
   "outputs": [
    {
     "output_type": "stream",
     "name": "stdout",
     "output_type": "stream",
     "text": [
      "Suma total: 161\n"
     ]
    }
   ],
   "source": [
    "print(\"Suma total:\", rdd1.sum())"
   ]
  },
  {
   "cell_type": "code",
   "execution_count": 0,
   "metadata": {
    "application/vnd.databricks.v1+cell": {
     "cellMetadata": {
      "byteLimit": 2048000,
      "rowLimit": 10000
     },
     "inputWidgets": {},
     "nuid": "1717bd32-de02-4ed2-b624-0efa0edec3d8",
     "showTitle": false,
     "title": ""
    }
   },
   "outputs": [
    {
     "output_type": "stream",
     "name": "stdout",
     "output_type": "stream",
     "text": [
      "[84, 32, 16, 10, 32, 20, 15, 20, 22]\n"
     ]
    }
   ],
   "source": [
    "rdd2 = rdd1.map(lambda x: x + 10)\n",
    "print(rdd2.collect())\n"
   ]
  },
  {
   "cell_type": "code",
   "execution_count": 0,
   "metadata": {
    "application/vnd.databricks.v1+cell": {
     "cellMetadata": {
      "byteLimit": 2048000,
      "rowLimit": 10000
     },
     "inputWidgets": {},
     "nuid": "59590302-6cab-470d-9fc1-60c83a097503",
     "showTitle": false,
     "title": ""
    }
   },
   "outputs": [
    {
     "output_type": "stream",
     "name": "stdout",
     "output_type": "stream",
     "text": [
      "[0, 74, 10, 12, 5, 22, 6]\n"
     ]
    }
   ],
   "source": [
    "rdd3 = rdd1.distinct()\n",
    "print(rdd3.collect())\n"
   ]
  },
  {
   "cell_type": "code",
   "execution_count": 0,
   "metadata": {
    "application/vnd.databricks.v1+cell": {
     "cellMetadata": {
      "byteLimit": 2048000,
      "rowLimit": 10000
     },
     "inputWidgets": {},
     "nuid": "a8f6b56e-f01f-46f4-aad6-f651c55d39c0",
     "showTitle": false,
     "title": ""
    }
   },
   "outputs": [],
   "source": [
    "loremipsum = sc.textFile(\"/FileStore/tables/loremipsum.txt\")"
   ]
  },
  {
   "cell_type": "code",
   "execution_count": 0,
   "metadata": {
    "application/vnd.databricks.v1+cell": {
     "cellMetadata": {
      "byteLimit": 2048000,
      "rowLimit": 10000
     },
     "inputWidgets": {},
     "nuid": "d08c2914-d199-4b0f-96f9-560049bf0c7a",
     "showTitle": false,
     "title": ""
    }
   },
   "outputs": [],
   "source": [
    "words = loremipsum.flatMap(lambda x: x.split(' '))\n",
    "\n",
    "words_no_sign = words.map(lambda x: x.strip(\";.:?,\\\"[]#()*\\'\\\\¿!¡\"))"
   ]
  },
  {
   "cell_type": "code",
   "execution_count": 0,
   "metadata": {
    "application/vnd.databricks.v1+cell": {
     "cellMetadata": {
      "byteLimit": 2048000,
      "rowLimit": 10000
     },
     "inputWidgets": {},
     "nuid": "d9292a95-80a7-433e-9c33-ceb1a0d4dcf0",
     "showTitle": false,
     "title": ""
    }
   },
   "outputs": [
    {
     "output_type": "stream",
     "name": "stdout",
     "output_type": "stream",
     "text": [
      "recuento de palabras: defaultdict(<class 'int'>, {'Lorem': 1, 'ipsum': 4, 'dolor': 4, 'sit': 5, 'amet': 5, 'consectetur': 2, 'adipiscing': 1, 'elit': 2, 'Nunc': 1, 'non': 4, 'gravida': 4, 'libero': 3, 'Donec': 4, 'at': 4, 'commodo': 1, 'varius': 2, 'lorem': 4, 'vitae': 6, 'arcu': 1, 'purus': 4, 'pharetra': 1, 'in': 3, 'nisi': 3, 'suscipit': 1, 'iaculis': 3, 'neque': 4, 'Nullam': 1, 'malesuada': 2, 'tellus': 2, 'mauris': 4, 'sagittis': 4, 'nec': 4, 'fermentum': 2, 'quam': 2, 'vestibulum': 1, 'Ut': 5, 'elementum': 3, 'et': 5, 'semper': 2, 'a': 6, 'ullamcorper': 2, 'turpis': 4, 'cursus': 2, 'Aliquam': 1, 'nisl': 2, 'augue': 2, 'ut': 3, 'tristique': 2, 'dictum': 2, 'ante': 4, 'Duis': 3, 'ornare': 1, 'orci': 2, 'efficitur': 2, 'rhoncus': 2, 'Sed': 3, 'eu': 5, 'maximus': 1, 'luctus': 4, 'Vestibulum': 1, 'metus': 1, 'dui': 1, 'quis': 6, 'tempor': 2, 'nibh': 1, 'Suspendisse': 1, 'fringilla': 1, 'diam': 1, 'vehicula': 1, 'nulla': 1, 'euismod': 2, 'Nam': 2, 'lacus': 2, 'enim': 2, 'congue': 2, 'posuere': 1, 'massa': 3, 'Cras': 1, 'venenatis': 2, 'erat': 5, 'Quisque': 1, 'sed': 5, 'sapien': 4, 'porttitor': 1, 'porta': 1, 'Curabitur': 1, 'magna': 1, 'condimentum': 1, 'ac': 2, 'aliquam': 1, 'lectus': 2, 'aliquet': 1, 'odio': 1, 'eros': 2, 'tempus': 3, 'Mauris': 1, 'convallis': 1, 'scelerisque': 1, 'ultricies': 1, 'blandit': 1, 'Fusce': 1, 'eget': 2, 'mollis': 2, 'tortor': 2, 'Vivamus': 1, 'molestie': 2, 'mi': 1, 'vel': 2, 'finibus': 1, 'sem': 1, 'facilisis': 1, 'leo': 2, 'ex': 2, 'interdum': 2, 'felis': 1, 'feugiat': 1, 'Orci': 1, 'natoque': 1, 'penatibus': 1, 'magnis': 1, 'dis': 1, 'parturient': 1, 'montes': 1, 'nascetur': 1, 'ridiculus': 1, 'mus': 1, 'viverra': 1, 'sodales': 2, 'Nulla': 2, 'consequat': 2, 'facilisi': 1, 'id': 1, 'lacinia': 1})\n"
     ]
    }
   ],
   "source": [
    "print(\"recuento de palabras:\", words_no_sign.countByValue())"
   ]
  },
  {
   "cell_type": "code",
   "execution_count": 0,
   "metadata": {
    "application/vnd.databricks.v1+cell": {
     "cellMetadata": {
      "byteLimit": 2048000,
      "rowLimit": 10000
     },
     "inputWidgets": {},
     "nuid": "b5ebf518-79e6-417a-a4ec-a9a189ad98f3",
     "showTitle": false,
     "title": ""
    }
   },
   "outputs": [
    {
     "output_type": "stream",
     "name": "stdout",
     "output_type": "stream",
     "text": [
      "Palabras en mayúsculas con longitud >= 7: ['CONSECTETUR', 'ADIPISCING', 'GRAVIDA', 'COMMODO', 'CONSECTETUR', 'PHARETRA', 'SUSCIPIT', 'IACULIS', 'MALESUADA', 'SAGITTIS', 'FERMENTUM', 'VESTIBULUM', 'ELEMENTUM', 'ULLAMCORPER', 'ALIQUAM', 'TRISTIQUE', 'EFFICITUR', 'RHONCUS', 'MAXIMUS', 'IACULIS', 'VESTIBULUM', 'ELEMENTUM', 'SUSPENDISSE', 'FRINGILLA', 'VEHICULA', 'SAGITTIS', 'EUISMOD', 'POSUERE', 'VENENATIS', 'QUISQUE', 'EFFICITUR', 'PORTTITOR', 'CURABITUR', 'GRAVIDA', 'CONDIMENTUM', 'ALIQUAM', 'ALIQUET', 'SAGITTIS', 'MALESUADA', 'GRAVIDA', 'CONVALLIS', 'SCELERISQUE', 'ULTRICIES', 'BLANDIT', 'TRISTIQUE', 'ELEMENTUM', 'VIVAMUS', 'MOLESTIE', 'FINIBUS', 'MOLESTIE', 'FACILISIS', 'ULLAMCORPER', 'SAGITTIS', 'VENENATIS', 'INTERDUM', 'GRAVIDA', 'FEUGIAT', 'NATOQUE', 'PENATIBUS', 'PARTURIENT', 'NASCETUR', 'RIDICULUS', 'VIVERRA', 'SODALES', 'EUISMOD', 'CONSEQUAT', 'FACILISI', 'IACULIS', 'CONSEQUAT', 'RHONCUS', 'FERMENTUM', 'INTERDUM', 'LACINIA', 'SODALES']\n"
     ]
    }
   ],
   "source": [
    "rdd_words = words_no_sign.filter(lambda x: len(x) >= 7).map(lambda x: x.upper())\n",
    "\n",
    "resultados = rdd_words.collect()\n",
    "print(\"Palabras en mayúsculas con longitud >= 7:\", resultados)"
   ]
  }
 ],
 "metadata": {
  "application/vnd.databricks.v1+notebook": {
   "dashboards": [],
   "environmentMetadata": null,
   "language": "python",
   "notebookMetadata": {
    "pythonIndentUnit": 4
   },
   "notebookName": "Daniel_Barandiaran_PEC_Ejercicio1",
   "widgets": {}
  }
 },
 "nbformat": 4,
 "nbformat_minor": 0
}
