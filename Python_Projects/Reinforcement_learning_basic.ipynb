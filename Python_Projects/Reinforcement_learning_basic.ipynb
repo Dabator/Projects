{
 "cells": [
  {
   "cell_type": "markdown",
   "id": "488d5e7f-fbd9-4397-9716-6b2c6f0bd7d5",
   "metadata": {},
   "source": [
    "# Ejercicio de Iteración de Valor"
   ]
  },
  {
   "cell_type": "markdown",
   "id": "523867a0-7ad2-45b5-be87-93f668085780",
   "metadata": {},
   "source": [
    "## Instalar los requerimientos"
   ]
  },
  {
   "cell_type": "code",
   "execution_count": 17,
   "id": "3728e955-5221-4825-87d3-14b1778d0cf8",
   "metadata": {},
   "outputs": [
    {
     "name": "stdout",
     "output_type": "stream",
     "text": [
      "Requirement already satisfied: gymnasium in c:\\users\\pc\\appdata\\local\\programs\\python\\python312\\lib\\site-packages (from -r requirements.txt (line 1)) (0.29.1)\n",
      "Requirement already satisfied: torch in c:\\users\\pc\\appdata\\local\\programs\\python\\python312\\lib\\site-packages (from -r requirements.txt (line 2)) (2.2.2)\n",
      "Requirement already satisfied: torchvision in c:\\users\\pc\\appdata\\local\\programs\\python\\python312\\lib\\site-packages (from -r requirements.txt (line 3)) (0.17.2)\n",
      "Requirement already satisfied: torchaudio in c:\\users\\pc\\appdata\\local\\programs\\python\\python312\\lib\\site-packages (from -r requirements.txt (line 4)) (2.2.2)\n",
      "Requirement already satisfied: jupyterlab in c:\\users\\pc\\appdata\\local\\programs\\python\\python312\\lib\\site-packages (from -r requirements.txt (line 5)) (4.1.6)\n",
      "Requirement already satisfied: matplotlib in c:\\users\\pc\\appdata\\local\\programs\\python\\python312\\lib\\site-packages (from -r requirements.txt (line 6)) (3.8.4)\n",
      "Requirement already satisfied: pandas in c:\\users\\pc\\appdata\\local\\programs\\python\\python312\\lib\\site-packages (from -r requirements.txt (line 7)) (2.2.2)\n",
      "Requirement already satisfied: pydantic in c:\\users\\pc\\appdata\\local\\programs\\python\\python312\\lib\\site-packages (from -r requirements.txt (line 8)) (2.7.0)\n",
      "Requirement already satisfied: numpy>=1.21.0 in c:\\users\\pc\\appdata\\local\\programs\\python\\python312\\lib\\site-packages (from gymnasium->-r requirements.txt (line 1)) (1.26.4)\n",
      "Requirement already satisfied: cloudpickle>=1.2.0 in c:\\users\\pc\\appdata\\local\\programs\\python\\python312\\lib\\site-packages (from gymnasium->-r requirements.txt (line 1)) (3.0.0)\n",
      "Requirement already satisfied: typing-extensions>=4.3.0 in c:\\users\\pc\\appdata\\local\\programs\\python\\python312\\lib\\site-packages (from gymnasium->-r requirements.txt (line 1)) (4.11.0)\n",
      "Requirement already satisfied: farama-notifications>=0.0.1 in c:\\users\\pc\\appdata\\local\\programs\\python\\python312\\lib\\site-packages (from gymnasium->-r requirements.txt (line 1)) (0.0.4)\n",
      "Requirement already satisfied: filelock in c:\\users\\pc\\appdata\\local\\programs\\python\\python312\\lib\\site-packages (from torch->-r requirements.txt (line 2)) (3.13.4)\n",
      "Requirement already satisfied: sympy in c:\\users\\pc\\appdata\\local\\programs\\python\\python312\\lib\\site-packages (from torch->-r requirements.txt (line 2)) (1.12)\n",
      "Requirement already satisfied: networkx in c:\\users\\pc\\appdata\\local\\programs\\python\\python312\\lib\\site-packages (from torch->-r requirements.txt (line 2)) (3.3)\n",
      "Requirement already satisfied: jinja2 in c:\\users\\pc\\appdata\\local\\programs\\python\\python312\\lib\\site-packages (from torch->-r requirements.txt (line 2)) (3.1.3)\n",
      "Requirement already satisfied: fsspec in c:\\users\\pc\\appdata\\local\\programs\\python\\python312\\lib\\site-packages (from torch->-r requirements.txt (line 2)) (2024.3.1)\n",
      "Requirement already satisfied: pillow!=8.3.*,>=5.3.0 in c:\\users\\pc\\appdata\\local\\programs\\python\\python312\\lib\\site-packages (from torchvision->-r requirements.txt (line 3)) (10.3.0)\n",
      "Requirement already satisfied: async-lru>=1.0.0 in c:\\users\\pc\\appdata\\local\\programs\\python\\python312\\lib\\site-packages (from jupyterlab->-r requirements.txt (line 5)) (2.0.4)\n",
      "Requirement already satisfied: httpx>=0.25.0 in c:\\users\\pc\\appdata\\local\\programs\\python\\python312\\lib\\site-packages (from jupyterlab->-r requirements.txt (line 5)) (0.27.0)\n",
      "Requirement already satisfied: ipykernel>=6.5.0 in c:\\users\\pc\\appdata\\roaming\\python\\python312\\site-packages (from jupyterlab->-r requirements.txt (line 5)) (6.29.4)\n",
      "Requirement already satisfied: jupyter-core in c:\\users\\pc\\appdata\\roaming\\python\\python312\\site-packages (from jupyterlab->-r requirements.txt (line 5)) (5.7.2)\n",
      "Requirement already satisfied: jupyter-lsp>=2.0.0 in c:\\users\\pc\\appdata\\local\\programs\\python\\python312\\lib\\site-packages (from jupyterlab->-r requirements.txt (line 5)) (2.2.5)\n",
      "Requirement already satisfied: jupyter-server<3,>=2.4.0 in c:\\users\\pc\\appdata\\local\\programs\\python\\python312\\lib\\site-packages (from jupyterlab->-r requirements.txt (line 5)) (2.14.0)\n",
      "Requirement already satisfied: jupyterlab-server<3,>=2.19.0 in c:\\users\\pc\\appdata\\local\\programs\\python\\python312\\lib\\site-packages (from jupyterlab->-r requirements.txt (line 5)) (2.26.0)\n",
      "Requirement already satisfied: notebook-shim>=0.2 in c:\\users\\pc\\appdata\\local\\programs\\python\\python312\\lib\\site-packages (from jupyterlab->-r requirements.txt (line 5)) (0.2.4)\n",
      "Requirement already satisfied: packaging in c:\\users\\pc\\appdata\\roaming\\python\\python312\\site-packages (from jupyterlab->-r requirements.txt (line 5)) (24.0)\n",
      "Requirement already satisfied: tornado>=6.2.0 in c:\\users\\pc\\appdata\\roaming\\python\\python312\\site-packages (from jupyterlab->-r requirements.txt (line 5)) (6.4)\n",
      "Requirement already satisfied: traitlets in c:\\users\\pc\\appdata\\roaming\\python\\python312\\site-packages (from jupyterlab->-r requirements.txt (line 5)) (5.14.2)\n",
      "Requirement already satisfied: contourpy>=1.0.1 in c:\\users\\pc\\appdata\\local\\programs\\python\\python312\\lib\\site-packages (from matplotlib->-r requirements.txt (line 6)) (1.2.1)\n",
      "Requirement already satisfied: cycler>=0.10 in c:\\users\\pc\\appdata\\local\\programs\\python\\python312\\lib\\site-packages (from matplotlib->-r requirements.txt (line 6)) (0.12.1)\n",
      "Requirement already satisfied: fonttools>=4.22.0 in c:\\users\\pc\\appdata\\local\\programs\\python\\python312\\lib\\site-packages (from matplotlib->-r requirements.txt (line 6)) (4.51.0)\n",
      "Requirement already satisfied: kiwisolver>=1.3.1 in c:\\users\\pc\\appdata\\local\\programs\\python\\python312\\lib\\site-packages (from matplotlib->-r requirements.txt (line 6)) (1.4.5)\n",
      "Requirement already satisfied: pyparsing>=2.3.1 in c:\\users\\pc\\appdata\\local\\programs\\python\\python312\\lib\\site-packages (from matplotlib->-r requirements.txt (line 6)) (3.1.2)\n",
      "Requirement already satisfied: python-dateutil>=2.7 in c:\\users\\pc\\appdata\\roaming\\python\\python312\\site-packages (from matplotlib->-r requirements.txt (line 6)) (2.9.0.post0)\n",
      "Requirement already satisfied: pytz>=2020.1 in c:\\users\\pc\\appdata\\local\\programs\\python\\python312\\lib\\site-packages (from pandas->-r requirements.txt (line 7)) (2024.1)\n",
      "Requirement already satisfied: tzdata>=2022.7 in c:\\users\\pc\\appdata\\local\\programs\\python\\python312\\lib\\site-packages (from pandas->-r requirements.txt (line 7)) (2024.1)\n",
      "Requirement already satisfied: annotated-types>=0.4.0 in c:\\users\\pc\\appdata\\local\\programs\\python\\python312\\lib\\site-packages (from pydantic->-r requirements.txt (line 8)) (0.6.0)\n",
      "Requirement already satisfied: pydantic-core==2.18.1 in c:\\users\\pc\\appdata\\local\\programs\\python\\python312\\lib\\site-packages (from pydantic->-r requirements.txt (line 8)) (2.18.1)\n",
      "Requirement already satisfied: anyio in c:\\users\\pc\\appdata\\local\\programs\\python\\python312\\lib\\site-packages (from httpx>=0.25.0->jupyterlab->-r requirements.txt (line 5)) (4.3.0)\n",
      "Requirement already satisfied: certifi in c:\\users\\pc\\appdata\\local\\programs\\python\\python312\\lib\\site-packages (from httpx>=0.25.0->jupyterlab->-r requirements.txt (line 5)) (2024.2.2)\n",
      "Requirement already satisfied: httpcore==1.* in c:\\users\\pc\\appdata\\local\\programs\\python\\python312\\lib\\site-packages (from httpx>=0.25.0->jupyterlab->-r requirements.txt (line 5)) (1.0.5)\n",
      "Requirement already satisfied: idna in c:\\users\\pc\\appdata\\local\\programs\\python\\python312\\lib\\site-packages (from httpx>=0.25.0->jupyterlab->-r requirements.txt (line 5)) (3.7)\n",
      "Requirement already satisfied: sniffio in c:\\users\\pc\\appdata\\local\\programs\\python\\python312\\lib\\site-packages (from httpx>=0.25.0->jupyterlab->-r requirements.txt (line 5)) (1.3.1)\n",
      "Requirement already satisfied: h11<0.15,>=0.13 in c:\\users\\pc\\appdata\\local\\programs\\python\\python312\\lib\\site-packages (from httpcore==1.*->httpx>=0.25.0->jupyterlab->-r requirements.txt (line 5)) (0.14.0)\n",
      "Requirement already satisfied: comm>=0.1.1 in c:\\users\\pc\\appdata\\roaming\\python\\python312\\site-packages (from ipykernel>=6.5.0->jupyterlab->-r requirements.txt (line 5)) (0.2.2)\n",
      "Requirement already satisfied: debugpy>=1.6.5 in c:\\users\\pc\\appdata\\roaming\\python\\python312\\site-packages (from ipykernel>=6.5.0->jupyterlab->-r requirements.txt (line 5)) (1.8.1)\n",
      "Requirement already satisfied: ipython>=7.23.1 in c:\\users\\pc\\appdata\\roaming\\python\\python312\\site-packages (from ipykernel>=6.5.0->jupyterlab->-r requirements.txt (line 5)) (8.23.0)\n",
      "Requirement already satisfied: jupyter-client>=6.1.12 in c:\\users\\pc\\appdata\\roaming\\python\\python312\\site-packages (from ipykernel>=6.5.0->jupyterlab->-r requirements.txt (line 5)) (8.6.1)\n",
      "Requirement already satisfied: matplotlib-inline>=0.1 in c:\\users\\pc\\appdata\\roaming\\python\\python312\\site-packages (from ipykernel>=6.5.0->jupyterlab->-r requirements.txt (line 5)) (0.1.7)\n",
      "Requirement already satisfied: nest-asyncio in c:\\users\\pc\\appdata\\roaming\\python\\python312\\site-packages (from ipykernel>=6.5.0->jupyterlab->-r requirements.txt (line 5)) (1.6.0)\n",
      "Requirement already satisfied: psutil in c:\\users\\pc\\appdata\\roaming\\python\\python312\\site-packages (from ipykernel>=6.5.0->jupyterlab->-r requirements.txt (line 5)) (5.9.8)\n",
      "Requirement already satisfied: pyzmq>=24 in c:\\users\\pc\\appdata\\roaming\\python\\python312\\site-packages (from ipykernel>=6.5.0->jupyterlab->-r requirements.txt (line 5)) (26.0.0)\n",
      "Requirement already satisfied: MarkupSafe>=2.0 in c:\\users\\pc\\appdata\\local\\programs\\python\\python312\\lib\\site-packages (from jinja2->torch->-r requirements.txt (line 2)) (2.1.5)\n",
      "Requirement already satisfied: platformdirs>=2.5 in c:\\users\\pc\\appdata\\roaming\\python\\python312\\site-packages (from jupyter-core->jupyterlab->-r requirements.txt (line 5)) (4.2.0)\n",
      "Requirement already satisfied: pywin32>=300 in c:\\users\\pc\\appdata\\roaming\\python\\python312\\site-packages (from jupyter-core->jupyterlab->-r requirements.txt (line 5)) (306)\n",
      "Requirement already satisfied: argon2-cffi>=21.1 in c:\\users\\pc\\appdata\\local\\programs\\python\\python312\\lib\\site-packages (from jupyter-server<3,>=2.4.0->jupyterlab->-r requirements.txt (line 5)) (23.1.0)\n",
      "Requirement already satisfied: jupyter-events>=0.9.0 in c:\\users\\pc\\appdata\\local\\programs\\python\\python312\\lib\\site-packages (from jupyter-server<3,>=2.4.0->jupyterlab->-r requirements.txt (line 5)) (0.10.0)\n",
      "Requirement already satisfied: jupyter-server-terminals>=0.4.4 in c:\\users\\pc\\appdata\\local\\programs\\python\\python312\\lib\\site-packages (from jupyter-server<3,>=2.4.0->jupyterlab->-r requirements.txt (line 5)) (0.5.3)\n",
      "Requirement already satisfied: nbconvert>=6.4.4 in c:\\users\\pc\\appdata\\local\\programs\\python\\python312\\lib\\site-packages (from jupyter-server<3,>=2.4.0->jupyterlab->-r requirements.txt (line 5)) (7.16.3)\n",
      "Requirement already satisfied: nbformat>=5.3.0 in c:\\users\\pc\\appdata\\local\\programs\\python\\python312\\lib\\site-packages (from jupyter-server<3,>=2.4.0->jupyterlab->-r requirements.txt (line 5)) (5.10.4)\n",
      "Requirement already satisfied: overrides>=5.0 in c:\\users\\pc\\appdata\\local\\programs\\python\\python312\\lib\\site-packages (from jupyter-server<3,>=2.4.0->jupyterlab->-r requirements.txt (line 5)) (7.7.0)\n",
      "Requirement already satisfied: prometheus-client>=0.9 in c:\\users\\pc\\appdata\\local\\programs\\python\\python312\\lib\\site-packages (from jupyter-server<3,>=2.4.0->jupyterlab->-r requirements.txt (line 5)) (0.20.0)\n",
      "Requirement already satisfied: pywinpty>=2.0.1 in c:\\users\\pc\\appdata\\local\\programs\\python\\python312\\lib\\site-packages (from jupyter-server<3,>=2.4.0->jupyterlab->-r requirements.txt (line 5)) (2.0.13)\n",
      "Requirement already satisfied: send2trash>=1.8.2 in c:\\users\\pc\\appdata\\local\\programs\\python\\python312\\lib\\site-packages (from jupyter-server<3,>=2.4.0->jupyterlab->-r requirements.txt (line 5)) (1.8.3)\n",
      "Requirement already satisfied: terminado>=0.8.3 in c:\\users\\pc\\appdata\\local\\programs\\python\\python312\\lib\\site-packages (from jupyter-server<3,>=2.4.0->jupyterlab->-r requirements.txt (line 5)) (0.18.1)\n",
      "Requirement already satisfied: websocket-client>=1.7 in c:\\users\\pc\\appdata\\local\\programs\\python\\python312\\lib\\site-packages (from jupyter-server<3,>=2.4.0->jupyterlab->-r requirements.txt (line 5)) (1.7.0)\n",
      "Requirement already satisfied: babel>=2.10 in c:\\users\\pc\\appdata\\local\\programs\\python\\python312\\lib\\site-packages (from jupyterlab-server<3,>=2.19.0->jupyterlab->-r requirements.txt (line 5)) (2.14.0)\n",
      "Requirement already satisfied: json5>=0.9.0 in c:\\users\\pc\\appdata\\local\\programs\\python\\python312\\lib\\site-packages (from jupyterlab-server<3,>=2.19.0->jupyterlab->-r requirements.txt (line 5)) (0.9.25)\n",
      "Requirement already satisfied: jsonschema>=4.18.0 in c:\\users\\pc\\appdata\\local\\programs\\python\\python312\\lib\\site-packages (from jupyterlab-server<3,>=2.19.0->jupyterlab->-r requirements.txt (line 5)) (4.21.1)\n",
      "Requirement already satisfied: requests>=2.31 in c:\\users\\pc\\appdata\\local\\programs\\python\\python312\\lib\\site-packages (from jupyterlab-server<3,>=2.19.0->jupyterlab->-r requirements.txt (line 5)) (2.31.0)\n",
      "Requirement already satisfied: six>=1.5 in c:\\users\\pc\\appdata\\roaming\\python\\python312\\site-packages (from python-dateutil>=2.7->matplotlib->-r requirements.txt (line 6)) (1.16.0)\n",
      "Requirement already satisfied: mpmath>=0.19 in c:\\users\\pc\\appdata\\local\\programs\\python\\python312\\lib\\site-packages (from sympy->torch->-r requirements.txt (line 2)) (1.3.0)\n",
      "Requirement already satisfied: argon2-cffi-bindings in c:\\users\\pc\\appdata\\local\\programs\\python\\python312\\lib\\site-packages (from argon2-cffi>=21.1->jupyter-server<3,>=2.4.0->jupyterlab->-r requirements.txt (line 5)) (21.2.0)\n",
      "Requirement already satisfied: decorator in c:\\users\\pc\\appdata\\roaming\\python\\python312\\site-packages (from ipython>=7.23.1->ipykernel>=6.5.0->jupyterlab->-r requirements.txt (line 5)) (5.1.1)\n",
      "Requirement already satisfied: jedi>=0.16 in c:\\users\\pc\\appdata\\roaming\\python\\python312\\site-packages (from ipython>=7.23.1->ipykernel>=6.5.0->jupyterlab->-r requirements.txt (line 5)) (0.19.1)\n",
      "Requirement already satisfied: prompt-toolkit<3.1.0,>=3.0.41 in c:\\users\\pc\\appdata\\roaming\\python\\python312\\site-packages (from ipython>=7.23.1->ipykernel>=6.5.0->jupyterlab->-r requirements.txt (line 5)) (3.0.43)\n",
      "Requirement already satisfied: pygments>=2.4.0 in c:\\users\\pc\\appdata\\roaming\\python\\python312\\site-packages (from ipython>=7.23.1->ipykernel>=6.5.0->jupyterlab->-r requirements.txt (line 5)) (2.17.2)\n",
      "Requirement already satisfied: stack-data in c:\\users\\pc\\appdata\\roaming\\python\\python312\\site-packages (from ipython>=7.23.1->ipykernel>=6.5.0->jupyterlab->-r requirements.txt (line 5)) (0.6.3)\n",
      "Requirement already satisfied: colorama in c:\\users\\pc\\appdata\\roaming\\python\\python312\\site-packages (from ipython>=7.23.1->ipykernel>=6.5.0->jupyterlab->-r requirements.txt (line 5)) (0.4.6)\n",
      "Requirement already satisfied: attrs>=22.2.0 in c:\\users\\pc\\appdata\\local\\programs\\python\\python312\\lib\\site-packages (from jsonschema>=4.18.0->jupyterlab-server<3,>=2.19.0->jupyterlab->-r requirements.txt (line 5)) (23.2.0)\n",
      "Requirement already satisfied: jsonschema-specifications>=2023.03.6 in c:\\users\\pc\\appdata\\local\\programs\\python\\python312\\lib\\site-packages (from jsonschema>=4.18.0->jupyterlab-server<3,>=2.19.0->jupyterlab->-r requirements.txt (line 5)) (2023.12.1)\n",
      "Requirement already satisfied: referencing>=0.28.4 in c:\\users\\pc\\appdata\\local\\programs\\python\\python312\\lib\\site-packages (from jsonschema>=4.18.0->jupyterlab-server<3,>=2.19.0->jupyterlab->-r requirements.txt (line 5)) (0.34.0)\n",
      "Requirement already satisfied: rpds-py>=0.7.1 in c:\\users\\pc\\appdata\\local\\programs\\python\\python312\\lib\\site-packages (from jsonschema>=4.18.0->jupyterlab-server<3,>=2.19.0->jupyterlab->-r requirements.txt (line 5)) (0.18.0)\n",
      "Requirement already satisfied: python-json-logger>=2.0.4 in c:\\users\\pc\\appdata\\local\\programs\\python\\python312\\lib\\site-packages (from jupyter-events>=0.9.0->jupyter-server<3,>=2.4.0->jupyterlab->-r requirements.txt (line 5)) (2.0.7)\n",
      "Requirement already satisfied: pyyaml>=5.3 in c:\\users\\pc\\appdata\\local\\programs\\python\\python312\\lib\\site-packages (from jupyter-events>=0.9.0->jupyter-server<3,>=2.4.0->jupyterlab->-r requirements.txt (line 5)) (6.0.1)\n",
      "Requirement already satisfied: rfc3339-validator in c:\\users\\pc\\appdata\\local\\programs\\python\\python312\\lib\\site-packages (from jupyter-events>=0.9.0->jupyter-server<3,>=2.4.0->jupyterlab->-r requirements.txt (line 5)) (0.1.4)\n",
      "Requirement already satisfied: rfc3986-validator>=0.1.1 in c:\\users\\pc\\appdata\\local\\programs\\python\\python312\\lib\\site-packages (from jupyter-events>=0.9.0->jupyter-server<3,>=2.4.0->jupyterlab->-r requirements.txt (line 5)) (0.1.1)\n",
      "Requirement already satisfied: beautifulsoup4 in c:\\users\\pc\\appdata\\local\\programs\\python\\python312\\lib\\site-packages (from nbconvert>=6.4.4->jupyter-server<3,>=2.4.0->jupyterlab->-r requirements.txt (line 5)) (4.12.3)\n",
      "Requirement already satisfied: bleach!=5.0.0 in c:\\users\\pc\\appdata\\local\\programs\\python\\python312\\lib\\site-packages (from nbconvert>=6.4.4->jupyter-server<3,>=2.4.0->jupyterlab->-r requirements.txt (line 5)) (6.1.0)\n",
      "Requirement already satisfied: defusedxml in c:\\users\\pc\\appdata\\local\\programs\\python\\python312\\lib\\site-packages (from nbconvert>=6.4.4->jupyter-server<3,>=2.4.0->jupyterlab->-r requirements.txt (line 5)) (0.7.1)\n",
      "Requirement already satisfied: jupyterlab-pygments in c:\\users\\pc\\appdata\\local\\programs\\python\\python312\\lib\\site-packages (from nbconvert>=6.4.4->jupyter-server<3,>=2.4.0->jupyterlab->-r requirements.txt (line 5)) (0.3.0)\n",
      "Requirement already satisfied: mistune<4,>=2.0.3 in c:\\users\\pc\\appdata\\local\\programs\\python\\python312\\lib\\site-packages (from nbconvert>=6.4.4->jupyter-server<3,>=2.4.0->jupyterlab->-r requirements.txt (line 5)) (3.0.2)\n",
      "Requirement already satisfied: nbclient>=0.5.0 in c:\\users\\pc\\appdata\\local\\programs\\python\\python312\\lib\\site-packages (from nbconvert>=6.4.4->jupyter-server<3,>=2.4.0->jupyterlab->-r requirements.txt (line 5)) (0.10.0)\n",
      "Requirement already satisfied: pandocfilters>=1.4.1 in c:\\users\\pc\\appdata\\local\\programs\\python\\python312\\lib\\site-packages (from nbconvert>=6.4.4->jupyter-server<3,>=2.4.0->jupyterlab->-r requirements.txt (line 5)) (1.5.1)\n",
      "Requirement already satisfied: tinycss2 in c:\\users\\pc\\appdata\\local\\programs\\python\\python312\\lib\\site-packages (from nbconvert>=6.4.4->jupyter-server<3,>=2.4.0->jupyterlab->-r requirements.txt (line 5)) (1.2.1)\n",
      "Requirement already satisfied: fastjsonschema>=2.15 in c:\\users\\pc\\appdata\\local\\programs\\python\\python312\\lib\\site-packages (from nbformat>=5.3.0->jupyter-server<3,>=2.4.0->jupyterlab->-r requirements.txt (line 5)) (2.19.1)\n",
      "Requirement already satisfied: charset-normalizer<4,>=2 in c:\\users\\pc\\appdata\\local\\programs\\python\\python312\\lib\\site-packages (from requests>=2.31->jupyterlab-server<3,>=2.19.0->jupyterlab->-r requirements.txt (line 5)) (3.3.2)\n",
      "Requirement already satisfied: urllib3<3,>=1.21.1 in c:\\users\\pc\\appdata\\local\\programs\\python\\python312\\lib\\site-packages (from requests>=2.31->jupyterlab-server<3,>=2.19.0->jupyterlab->-r requirements.txt (line 5)) (2.2.1)\n",
      "Requirement already satisfied: webencodings in c:\\users\\pc\\appdata\\local\\programs\\python\\python312\\lib\\site-packages (from bleach!=5.0.0->nbconvert>=6.4.4->jupyter-server<3,>=2.4.0->jupyterlab->-r requirements.txt (line 5)) (0.5.1)\n",
      "Requirement already satisfied: parso<0.9.0,>=0.8.3 in c:\\users\\pc\\appdata\\roaming\\python\\python312\\site-packages (from jedi>=0.16->ipython>=7.23.1->ipykernel>=6.5.0->jupyterlab->-r requirements.txt (line 5)) (0.8.4)\n",
      "Requirement already satisfied: fqdn in c:\\users\\pc\\appdata\\local\\programs\\python\\python312\\lib\\site-packages (from jsonschema[format-nongpl]>=4.18.0->jupyter-events>=0.9.0->jupyter-server<3,>=2.4.0->jupyterlab->-r requirements.txt (line 5)) (1.5.1)\n",
      "Requirement already satisfied: isoduration in c:\\users\\pc\\appdata\\local\\programs\\python\\python312\\lib\\site-packages (from jsonschema[format-nongpl]>=4.18.0->jupyter-events>=0.9.0->jupyter-server<3,>=2.4.0->jupyterlab->-r requirements.txt (line 5)) (20.11.0)\n",
      "Requirement already satisfied: jsonpointer>1.13 in c:\\users\\pc\\appdata\\local\\programs\\python\\python312\\lib\\site-packages (from jsonschema[format-nongpl]>=4.18.0->jupyter-events>=0.9.0->jupyter-server<3,>=2.4.0->jupyterlab->-r requirements.txt (line 5)) (2.4)\n",
      "Requirement already satisfied: uri-template in c:\\users\\pc\\appdata\\local\\programs\\python\\python312\\lib\\site-packages (from jsonschema[format-nongpl]>=4.18.0->jupyter-events>=0.9.0->jupyter-server<3,>=2.4.0->jupyterlab->-r requirements.txt (line 5)) (1.3.0)\n",
      "Requirement already satisfied: webcolors>=1.11 in c:\\users\\pc\\appdata\\local\\programs\\python\\python312\\lib\\site-packages (from jsonschema[format-nongpl]>=4.18.0->jupyter-events>=0.9.0->jupyter-server<3,>=2.4.0->jupyterlab->-r requirements.txt (line 5)) (1.13)\n",
      "Requirement already satisfied: wcwidth in c:\\users\\pc\\appdata\\roaming\\python\\python312\\site-packages (from prompt-toolkit<3.1.0,>=3.0.41->ipython>=7.23.1->ipykernel>=6.5.0->jupyterlab->-r requirements.txt (line 5)) (0.2.13)\n",
      "Requirement already satisfied: cffi>=1.0.1 in c:\\users\\pc\\appdata\\local\\programs\\python\\python312\\lib\\site-packages (from argon2-cffi-bindings->argon2-cffi>=21.1->jupyter-server<3,>=2.4.0->jupyterlab->-r requirements.txt (line 5)) (1.16.0)\n",
      "Requirement already satisfied: soupsieve>1.2 in c:\\users\\pc\\appdata\\local\\programs\\python\\python312\\lib\\site-packages (from beautifulsoup4->nbconvert>=6.4.4->jupyter-server<3,>=2.4.0->jupyterlab->-r requirements.txt (line 5)) (2.5)\n",
      "Requirement already satisfied: executing>=1.2.0 in c:\\users\\pc\\appdata\\roaming\\python\\python312\\site-packages (from stack-data->ipython>=7.23.1->ipykernel>=6.5.0->jupyterlab->-r requirements.txt (line 5)) (2.0.1)\n",
      "Requirement already satisfied: asttokens>=2.1.0 in c:\\users\\pc\\appdata\\roaming\\python\\python312\\site-packages (from stack-data->ipython>=7.23.1->ipykernel>=6.5.0->jupyterlab->-r requirements.txt (line 5)) (2.4.1)\n",
      "Requirement already satisfied: pure-eval in c:\\users\\pc\\appdata\\roaming\\python\\python312\\site-packages (from stack-data->ipython>=7.23.1->ipykernel>=6.5.0->jupyterlab->-r requirements.txt (line 5)) (0.2.2)\n",
      "Requirement already satisfied: pycparser in c:\\users\\pc\\appdata\\local\\programs\\python\\python312\\lib\\site-packages (from cffi>=1.0.1->argon2-cffi-bindings->argon2-cffi>=21.1->jupyter-server<3,>=2.4.0->jupyterlab->-r requirements.txt (line 5)) (2.22)\n",
      "Requirement already satisfied: arrow>=0.15.0 in c:\\users\\pc\\appdata\\local\\programs\\python\\python312\\lib\\site-packages (from isoduration->jsonschema[format-nongpl]>=4.18.0->jupyter-events>=0.9.0->jupyter-server<3,>=2.4.0->jupyterlab->-r requirements.txt (line 5)) (1.3.0)\n",
      "Requirement already satisfied: types-python-dateutil>=2.8.10 in c:\\users\\pc\\appdata\\local\\programs\\python\\python312\\lib\\site-packages (from arrow>=0.15.0->isoduration->jsonschema[format-nongpl]>=4.18.0->jupyter-events>=0.9.0->jupyter-server<3,>=2.4.0->jupyterlab->-r requirements.txt (line 5)) (2.9.0.20240316)\n",
      "Note: you may need to restart the kernel to use updated packages.\n"
     ]
    }
   ],
   "source": [
    "%pip install -r requirements.txt"
   ]
  },
  {
   "cell_type": "markdown",
   "id": "8461784e-2961-401a-8755-05c541e97b8b",
   "metadata": {},
   "source": [
    "## Importar dependencias"
   ]
  },
  {
   "cell_type": "code",
   "execution_count": 19,
   "id": "dc457908-12f0-4480-9efd-4f6e95646a94",
   "metadata": {
    "tags": []
   },
   "outputs": [],
   "source": [
    "import gymnasium as gym\n",
    "import numpy as np\n",
    "from plot_utils import plot_values"
   ]
  },
  {
   "cell_type": "markdown",
   "id": "f9aa42ab-60c4-447e-90ba-f8f30c114480",
   "metadata": {},
   "source": [
    "## Para hacer: Arregla el código para desarrollar tu algoritmo de Iteración de Valor"
   ]
  },
  {
   "cell_type": "code",
   "execution_count": 67,
   "id": "4f5ab534",
   "metadata": {},
   "outputs": [],
   "source": [
    "class ValueIteration:\n",
    "    def __init__(self, env, gamma, pi_error):\n",
    "        self.env = env  # OpenAI gym environment\n",
    "        self.gamma = gamma  # Discount factor\n",
    "        self.pi_error = pi_error  # Policy improvement error\n",
    "        self.reward = {0: 0.0, 1: 0.0, 2: 0.0, 3: 0.0, 4: 0.0, 5: 0.0, 6: 0.0, 7: 0.0, 8: 0.0, 9: 0.0, 10: 0.0, 11: 0.0, 12: 0.0, 13: 0.0, 14: 0.0, 15: 1}\n",
    "\n",
    "    def train(self):\n",
    "        \"\"\"\n",
    "        Value Iteration Algorithm.\n",
    "\n",
    "        Returns:\n",
    "            policy (np.ndarray): optimal policy\n",
    "            Value  (np.ndarray): optimal value function\n",
    "        \"\"\"\n",
    "\n",
    "        # TODO: Fix the code\n",
    "        \n",
    "        # Random policy\n",
    "        policy = np.ones([self.env.observation_space.n, self.env.action_space.n]) / self.env.action_space.n\n",
    "\n",
    "        # Random value function\n",
    "        V = np.zeros(self.env.observation_space.n)\n",
    "\n",
    "        \n",
    "        while True:\n",
    "            delta = 0\n",
    "            for s in range(self.env.observation_space.n):\n",
    "                v = V[s]\n",
    "                max_value = -np.inf\n",
    "                for a in range(self.env.action_space.n):\n",
    "                    value = 0\n",
    "                    for prob, next_state, reward, done in self.env.P[s][a]:\n",
    "                        value += prob * (reward + self.gamma * V[next_state])\n",
    "                    if value > max_value:\n",
    "                        max_value = value\n",
    "                V[s] = max_value\n",
    "                delta = max(delta, abs(v - V[s]))\n",
    "            if delta < self.pi_error:\n",
    "                break\n",
    "\n",
    "        \n",
    "        for s in range(self.env.observation_space.n):\n",
    "            q_values = np.zeros(self.env.action_space.n)\n",
    "            for a in range(self.env.action_space.n):\n",
    "                for prob, next_state, reward, done in self.env.P[s][a]:\n",
    "                    q_values[a] += prob * (reward + self.gamma * V[next_state])\n",
    "            best_action = np.argmax(q_values)\n",
    "            policy[s] = np.eye(self.env.action_space.n)[best_action]\n",
    "\n",
    "        return policy, V\n",
    "\n",
    "    def policy_improvement(self, V):\n",
    "        \"\"\"\n",
    "        Policy improvement.\n",
    "\n",
    "        Args:\n",
    "            V (np.ndarray): value function\n",
    "\n",
    "        Returns:\n",
    "            policy (np.ndarray): improved policy\n",
    "        \"\"\"\n",
    "        policy = np.zeros([self.env.observation_space.n, self.env.action_space.n])\n",
    "\n",
    "        for s in range(self.env.observation_space.n):\n",
    "            q_values = np.zeros(self.env.action_space.n)\n",
    "            for a in range(self.env.action_space.n):\n",
    "                for prob, next_state, reward, done in self.env.P[s][a]:\n",
    "                    q_values[a] += prob * (reward + self.gamma * V[next_state])\n",
    "            best_action = np.argmax(q_values)\n",
    "            policy[s] = np.eye(self.env.action_space.n)[best_action]\n",
    "\n",
    "        return policy\n",
    "\n",
    "    def get_q_from_v(self, V):\n",
    "        \"\"\"\n",
    "        Get the Q values from the value function.\n",
    "\n",
    "        Args:\n",
    "            V (np.ndarray): value function\n",
    "\n",
    "        Returns:\n",
    "            Q (np.ndarray): action-value function\n",
    "        \"\"\"\n",
    "        Q = np.zeros([self.env.observation_space.n, self.env.action_space.n])\n",
    "\n",
    "        for s in range(self.env.observation_space.n):\n",
    "            for a in range(self.env.action_space.n):\n",
    "                for prob, next_state, reward, done in self.env.P[s][a]:\n",
    "                    Q[s][a] += prob * (reward + self.gamma * V[next_state])\n",
    "\n",
    "        return Q\n",
    "\n",
    "    def play(self, policy, render=True):\n",
    "        \"\"\"\n",
    "        Play with the given policy.\n",
    "\n",
    "        Args:\n",
    "            policy (np.ndarray): policy to play with\n",
    "            render (bool): whether to render the game or not\n",
    "\n",
    "        Returns:\n",
    "            total_reward (float): total reward achieved in this episode\n",
    "        \"\"\"\n",
    "        total_reward = 0.0\n",
    "        state = self.env.reset()[0]\n",
    "\n",
    "        # transform state to int, in case it is not\n",
    "        if not isinstance(state, int):\n",
    "            state = int(state)\n",
    "\n",
    "\n",
    "        while True:\n",
    "            if render:\n",
    "                self.env.render()\n",
    "            action = np.argmax(policy[state])\n",
    "            result = self.env.step(action)\n",
    "            next_state, reward, done, _ = result[:4]\n",
    "            total_reward += reward\n",
    "            state = next_state\n",
    "            if done:\n",
    "                break\n",
    "        return total_reward\n",
    "    \n",
    "\n",
    "\n"
   ]
  },
  {
   "cell_type": "markdown",
   "id": "39b089f0",
   "metadata": {},
   "source": [
    "## Observa a tu agente jugar"
   ]
  },
  {
   "cell_type": "code",
   "execution_count": 68,
   "id": "97cd1110",
   "metadata": {},
   "outputs": [
    {
     "name": "stderr",
     "output_type": "stream",
     "text": [
      "c:\\Users\\PC\\AppData\\Local\\Programs\\Python\\Python312\\Lib\\site-packages\\gymnasium\\core.py:311: UserWarning: \u001b[33mWARN: env.P to get variables from other wrappers is deprecated and will be removed in v1.0, to get this variable you can do `env.unwrapped.P` for environment variables or `env.get_wrapper_attr('P')` that will search the reminding wrappers.\u001b[0m\n",
      "  logger.warn(\n"
     ]
    },
    {
     "data": {
      "image/png": "[encoded data removed]",
      "text/plain": [
       "<Figure size 320x320 with 1 Axes>"
      ]
     },
     "metadata": {},
     "output_type": "display_data"
    }
   ],
   "source": [
    "size = 4  # Only 4 and 8 are supported\n",
    "env = gym.make(\n",
    "    \"FrozenLake-v1\",\n",
    "    desc=None,\n",
    "    map_name=f\"{size}x{size}\",\n",
    "    is_slippery=False,\n",
    "    render_mode=\"human\",\n",
    ")\n",
    "gamma = 0.9\n",
    "pi_error = 1e-10\n",
    "value_iteration = ValueIteration(env, gamma, pi_error)\n",
    "policy, V = value_iteration.train()\n",
    "\n",
    "value_iteration.play(policy)\n",
    "\n",
    "plot_values(V, size)\n",
    "\n"
   ]
  },
  {
   "cell_type": "markdown",
   "id": "bfc69c53",
   "metadata": {},
   "source": [
    "## Verifica que tu solución sea correcta\n"
   ]
  },
  {
   "cell_type": "markdown",
   "id": "e0fad98f",
   "metadata": {},
   "source": [
    "## Responde a estas preguntas\n",
    "\n",
    "1. ¿Qué sucede cuando configuras tu entorno con is_slippery=True? ¿Cuál es el efecto en la función de valor? ¿Por qué?\n",
    "2. ¿Qué sucede con la función de valor cuando cambiamos gamma? ¿Por qué?"
   ]
  },
  {
   "cell_type": "markdown",
   "id": "6006c3c3",
   "metadata": {},
   "source": [
    "Aparece como valores de estado en lugar de movimiento para cada estado (política), de modo que la persona se desplazaría por el siguiente estado que contenga mayor valor entre sus posibilidade. Vemos que está correcto, ya que al estar el entorno como determinista, podemos llegar al estado 15 de las dos maneras. Cambiamos is_slippery=True y imprimimos la política a ver como aparece."
   ]
  },
  {
   "cell_type": "code",
   "execution_count": 63,
   "id": "6504c452",
   "metadata": {},
   "outputs": [
    {
     "data": {
      "image/png": "[encoded data removed]",
      "text/plain": [
       "<Figure size 320x320 with 1 Axes>"
      ]
     },
     "metadata": {},
     "output_type": "display_data"
    },
    {
     "name": "stdout",
     "output_type": "stream",
     "text": [
      "[[1. 0. 0. 0.]\n",
      " [0. 0. 0. 1.]\n",
      " [1. 0. 0. 0.]\n",
      " [0. 0. 0. 1.]\n",
      " [1. 0. 0. 0.]\n",
      " [1. 0. 0. 0.]\n",
      " [1. 0. 0. 0.]\n",
      " [1. 0. 0. 0.]\n",
      " [0. 0. 0. 1.]\n",
      " [0. 1. 0. 0.]\n",
      " [1. 0. 0. 0.]\n",
      " [1. 0. 0. 0.]\n",
      " [1. 0. 0. 0.]\n",
      " [0. 0. 1. 0.]\n",
      " [0. 1. 0. 0.]\n",
      " [1. 0. 0. 0.]]\n"
     ]
    }
   ],
   "source": [
    "size = 4  # Only 4 and 8 are supported\n",
    "env = gym.make(\n",
    "    \"FrozenLake-v1\",\n",
    "    desc=None,\n",
    "    map_name=f\"{size}x{size}\",\n",
    "    is_slippery=True,\n",
    "    render_mode=\"human\",\n",
    ")\n",
    "gamma = 0.9\n",
    "pi_error = 1e-10\n",
    "value_iteration = ValueIteration(env, gamma, pi_error)\n",
    "policy, V = value_iteration.train()\n",
    "\n",
    "value_iteration.play(policy)\n",
    "\n",
    "plot_values(V, size)\n",
    "print(policy)"
   ]
  },
  {
   "cell_type": "markdown",
   "id": "29537f29",
   "metadata": {},
   "source": [
    "Ahora ha cambiado a un entorno estocático. Vemos como han cambiado los valores de estado, indicando el camino donde se obtiene más valor para los siguientes estados. La política se ha impreso de una forma que no esperaba, donde las filas son los estados y las columnas son los movimientos, en este orden (izquierda, abajo, derecha, arriba). Comprobamos que efectivamente hemos obtenido la política óptima. Ahora cambiemos el formato de salida de la política y además cambiamos el valor de gamma a 0.1."
   ]
  },
  {
   "cell_type": "code",
   "execution_count": 64,
   "id": "77efe8cf",
   "metadata": {},
   "outputs": [
    {
     "name": "stdout",
     "output_type": "stream",
     "text": [
      "Política óptima:\n",
      "[[0 3 0 3]\n",
      " [0 0 0 0]\n",
      " [3 1 0 0]\n",
      " [0 2 1 0]]\n"
     ]
    }
   ],
   "source": [
    "# política antes de la modificación de gamma\n",
    "\n",
    "def visualize_policy(policy):\n",
    "    policy_grid = np.argmax(policy, axis=1).reshape((size, size))\n",
    "    \n",
    "    print(\"Política óptima:\")\n",
    "    print(policy_grid)\n",
    "\n",
    "visualize_policy(policy)"
   ]
  },
  {
   "cell_type": "markdown",
   "id": "0f8e5892",
   "metadata": {},
   "source": [
    "Donde:\n",
    "0: izquierda, 1: abajo, 2: derecha, 3: arriba. \\\n",
    "Y efectivamente, vemos que la política es la óptima."
   ]
  },
  {
   "cell_type": "code",
   "execution_count": 65,
   "id": "45bebbf8",
   "metadata": {},
   "outputs": [
    {
     "data": {
      "image/png": "[encoded data removed]",
      "text/plain": [
       "<Figure size 320x320 with 1 Axes>"
      ]
     },
     "metadata": {},
     "output_type": "display_data"
    },
    {
     "name": "stdout",
     "output_type": "stream",
     "text": [
      "Política óptima:\n",
      "[[1 3 2 3]\n",
      " [0 0 0 0]\n",
      " [3 1 0 0]\n",
      " [0 2 1 0]]\n"
     ]
    }
   ],
   "source": [
    "size = 4  # Only 4 and 8 are supported\n",
    "env = gym.make(\n",
    "    \"FrozenLake-v1\",\n",
    "    desc=None,\n",
    "    map_name=f\"{size}x{size}\",\n",
    "    is_slippery=True,\n",
    "    render_mode=\"human\",\n",
    ")\n",
    "gamma = 0.1\n",
    "pi_error = 1e-10\n",
    "value_iteration = ValueIteration(env, gamma, pi_error)\n",
    "policy, V = value_iteration.train()\n",
    "\n",
    "value_iteration.play(policy)\n",
    "\n",
    "plot_values(V, size)\n",
    "visualize_policy(policy)"
   ]
  },
  {
   "cell_type": "markdown",
   "id": "0f46ced3",
   "metadata": {},
   "source": [
    "Vemos una pequeña diferencia, pero que lo marca todo. Y es que el modelo sigue buscando el siguiente estado que máximiza el valor. Pero no busca para los estados próximos, tan solo el siguiente. Por tanto, vemos como en el estado 0, no le importa si se desplaza hacia abajo o a la derecha, ya que ambas son igualmente válidas. Si fuesemos hacia abajo, volveríamos como la política anterior, pero se observa como en el estado 9 indica ir hacia abajo, como es evidente, pero le da casi el mismo valor acabar abajo que en la derecha, cuando evidentemente es peor ir hacia la derecha."
   ]
  }
 ],
 "metadata": {
  "kernelspec": {
   "display_name": "Python 3",
   "language": "python",
   "name": "python3"
  },
  "language_info": {
   "codemirror_mode": {
    "name": "ipython",
    "version": 3
   },
   "file_extension": ".py",
   "mimetype": "text/x-python",
   "name": "python",
   "nbconvert_exporter": "python",
   "pygments_lexer": "ipython3",
   "version": "3.12.3"
  }
 },
 "nbformat": 4,
 "nbformat_minor": 5
}
